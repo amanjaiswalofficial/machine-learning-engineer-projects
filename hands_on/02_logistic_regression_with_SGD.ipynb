{
 "cells": [
  {
   "cell_type": "code",
   "execution_count": 10,
   "id": "0e1f4752",
   "metadata": {},
   "outputs": [],
   "source": [
    "import numpy as np\n",
    "\n",
    "# Squashes logit to [0, 1] range\n",
    "def sigmoid(z):\n",
    "    return 1 / (1 + np.exp(-z))\n",
    "\n",
    "# Binary cross entropy loss function with clipping for numerical stability\n",
    "def binary_cross_entropy(y_true, y_pred):\n",
    "    eps = 1e-15\n",
    "    y_pred = np.clip(y_pred, eps, 1 - eps)\n",
    "    return -np.mean(y_true * np.log(y_pred) + (1 - y_true) * np.log(1 - y_pred))\n",
    "    \n",
    "def logistic_regression_sgd(X, y, lr=0.1, epochs=100):\n",
    "    num_of_samples, num_of_features = X.shape\n",
    "\n",
    "    # Add bias term as first col (x0 = 1)\n",
    "    X = np.hstack((np.ones((num_of_samples, 1)), X))\n",
    "\n",
    "    # Initialize weights including bias to zeroes\n",
    "    w = np.zeros(X.shape[1]) # (n_features + 1,)\n",
    "\n",
    "    for epoch in range(epochs):\n",
    "        for i in range(num_of_samples):\n",
    "            xi = X[i] # take 1 example with bias term\n",
    "            yi = y[i] # true label\n",
    " \n",
    "            z = np.dot(xi, w) # Linear combination: w^T x\n",
    "            pred = sigmoid(z) # predicted probability\n",
    "\n",
    "            error = pred - yi # Error calculated\n",
    "\n",
    "            grad = error * xi # Gradient (y^-y) * x\n",
    "            w -= lr * grad # update the SGD\n",
    "\n",
    "    return w"
   ]
  },
  {
   "cell_type": "code",
   "execution_count": 11,
   "id": "49dcce5d",
   "metadata": {},
   "outputs": [
    {
     "name": "stdout",
     "output_type": "stream",
     "text": [
      "Training Accuracy: 0.99\n"
     ]
    }
   ],
   "source": [
    "from sklearn.datasets import make_classification\n",
    "X, y = make_classification(n_samples=100, n_features=2, n_redundant=0, \n",
    "                           n_informative=2, random_state=42)\n",
    "\n",
    "weights = logistic_regression_sgd(X, y, lr=0.1, epochs=100)\n",
    "\n",
    "def predict(X, weights):\n",
    "    X = np.hstack((np.ones((X.shape[0], 1)), X))  # add bias term\n",
    "    probs = sigmoid(X @ weights)\n",
    "    return (probs >= 0.5).astype(int)\n",
    "\n",
    "preds = predict(X, weights)\n",
    "acc = np.mean(preds == y)\n",
    "print(\"Training Accuracy:\", acc)"
   ]
  }
 ],
 "metadata": {
  "kernelspec": {
   "display_name": ".venv",
   "language": "python",
   "name": "python3"
  },
  "language_info": {
   "codemirror_mode": {
    "name": "ipython",
    "version": 3
   },
   "file_extension": ".py",
   "mimetype": "text/x-python",
   "name": "python",
   "nbconvert_exporter": "python",
   "pygments_lexer": "ipython3",
   "version": "3.10.14"
  }
 },
 "nbformat": 4,
 "nbformat_minor": 5
}
