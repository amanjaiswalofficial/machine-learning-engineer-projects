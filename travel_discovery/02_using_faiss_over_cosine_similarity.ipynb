{
 "cells": [
  {
   "cell_type": "code",
   "execution_count": 1,
   "id": "1320e5db",
   "metadata": {},
   "outputs": [
    {
     "name": "stdout",
     "output_type": "stream",
     "text": [
      "Collecting faiss-cpu\n",
      "  Downloading faiss_cpu-1.11.0-cp310-cp310-macosx_14_0_arm64.whl.metadata (4.8 kB)\n",
      "Requirement already satisfied: numpy<3.0,>=1.25.0 in /Users/amanjaiswal/Work/hop_v3/.venv/lib/python3.10/site-packages (from faiss-cpu) (2.2.6)\n",
      "Requirement already satisfied: packaging in /Users/amanjaiswal/Work/hop_v3/.venv/lib/python3.10/site-packages (from faiss-cpu) (25.0)\n",
      "Downloading faiss_cpu-1.11.0-cp310-cp310-macosx_14_0_arm64.whl (3.3 MB)\n",
      "\u001b[2K   \u001b[90m━━━━━━━━━━━━━━━━━━━━━━━━━━━━━━━━━━━━━━━━\u001b[0m \u001b[32m3.3/3.3 MB\u001b[0m \u001b[31m14.1 MB/s\u001b[0m eta \u001b[36m0:00:00\u001b[0ma \u001b[36m0:00:01\u001b[0m\n",
      "\u001b[?25hInstalling collected packages: faiss-cpu\n",
      "Successfully installed faiss-cpu-1.11.0\n"
     ]
    }
   ],
   "source": [
    "!pip install faiss-cpu"
   ]
  },
  {
   "cell_type": "code",
   "execution_count": 7,
   "id": "2b8cad4d",
   "metadata": {},
   "outputs": [
    {
     "name": "stderr",
     "output_type": "stream",
     "text": [
      "100%|██████████| 328/328 [00:09<00:00, 35.05it/s]\n"
     ]
    }
   ],
   "source": [
    "# =========================\n",
    "# DATA LOADING\n",
    "# =========================\n",
    "import pandas as pd\n",
    "from tqdm import tqdm\n",
    "import pickle\n",
    "from sklearn.metrics.pairwise import cosine_similarity\n",
    "import numpy as np\n",
    "import ast # For safely evaluating string representations of Python literals\n",
    "\n",
    "tqdm.pandas()\n",
    "\n",
    "from sentence_transformers import SentenceTransformer\n",
    "import pandas as pd\n",
    "from sklearn.metrics.pairwise import cosine_similarity\n",
    "\n",
    "# This is a great balance of speed and quality (multilingual too)\n",
    "model = SentenceTransformer('sentence-transformers/all-MiniLM-L6-v2')\n",
    "\n",
    "# =========================\n",
    "# DATA LOADING\n",
    "# =========================\n",
    "PATH = \"/Users/amanjaiswal/Work/hop_v3/backend/combined_results.csv\"\n",
    "df = pd.read_csv(PATH)\n",
    "\n",
    "# =========================\n",
    "# DATA PREPROCESSING\n",
    "# =========================\n",
    "# Safely evaluate the string representation of the list of dictionaries\n",
    "import json\n",
    "\n",
    "def safe_literal_eval(s):\n",
    "    formatted_data = json.loads(s)\n",
    "    if isinstance(formatted_data, list):\n",
    "        return formatted_data\n",
    "    elif isinstance(formatted_data, str):\n",
    "        return list(formatted_data)\n",
    "    else:\n",
    "        raise Exception(\"error for row\", s)\n",
    "\n",
    "df['detailed_reviews'] = df['detailed_reviews'].apply(safe_literal_eval)\n",
    "\n",
    "\n",
    "df_reviews_exploded = df[['place_id', 'detailed_reviews']].explode('detailed_reviews')\n",
    "df_reviews_exploded_filtered = df_reviews_exploded[\n",
    "    df_reviews_exploded['detailed_reviews'].apply(lambda x: isinstance(x, dict) and bool(x))\n",
    "]\n",
    "\n",
    "df_reviews = pd.json_normalize(df_reviews_exploded_filtered['detailed_reviews'])\n",
    "df_reviews['place_id'] = df_reviews_exploded_filtered['place_id'].values\n",
    "place_features = ['place_id', 'name', 'main_category', 'rating', 'address', 'reviews']\n",
    "df_places = df[place_features]\n",
    "\n",
    "flat_df = df_reviews.merge(df_places, on='place_id', how='left', suffixes=('_review', '_place'))\n",
    "flat_df.head()\n",
    "\n",
    "# =========================\n",
    "# FEATURE ENGINEERING\n",
    "# =========================\n",
    "# Filter and group reviews\n",
    "filtered_df = flat_df[flat_df['rating_review'] >= 3]  # Optional: use only positive reviews\n",
    "\n",
    "# Group and combine reviews per place\n",
    "vibe_df = filtered_df.groupby(\n",
    "    ['place_id', 'name_place', 'main_category', 'rating_place', 'address', 'reviews']\n",
    ")['review_text'].apply(lambda texts: ' '.join([str(t) for t in texts if pd.notna(t)])).reset_index()\n",
    "\n",
    "# Rename columns\n",
    "vibe_df.rename(columns={\n",
    "    'name_place': 'place_name',\n",
    "    'rating_place': 'avg_place_rating',\n",
    "    'review_text': 'combined_reviews'\n",
    "}, inplace=True)\n",
    "\n",
    "def safe_encode(text):\n",
    "    if isinstance(text, str) and text.strip():\n",
    "        return model.encode(text)\n",
    "    return model.encode(\"\")\n",
    "\n",
    "vibe_df['embedding'] = vibe_df['combined_reviews'].progress_apply(safe_encode)\n",
    "vibe_index = vibe_df[['place_id', 'place_name', 'embedding', 'avg_place_rating', 'reviews', 'main_category', 'address']]\n"
   ]
  },
  {
   "cell_type": "code",
   "execution_count": 8,
   "id": "37cf5c74",
   "metadata": {},
   "outputs": [],
   "source": [
    "import faiss\n",
    "import numpy as np\n",
    "\n",
    "# Create FAISS index\n",
    "embedding_matrix = np.vstack(vibe_df['embedding'].values).astype('float32')\n",
    "faiss.normalize_L2(embedding_matrix)\n",
    "\n",
    "# Inner Product\n",
    "index = faiss.IndexFlatIP(embedding_matrix.shape[1])\n",
    "index.add(embedding_matrix)\n",
    "\n",
    "faiss.write_index(index, \"vibe_faiss.index\")\n",
    "vibe_df.to_pickle(\"vibe_df.pkl\")\n",
    "\n",
    "\n",
    "# Search function using FAISS\n",
    "import faiss\n",
    "import numpy as np\n",
    "import pandas as pd\n",
    "from sentence_transformers import SentenceTransformer\n",
    "\n",
    "# Load model, vibe metadata, and FAISS index\n",
    "model = SentenceTransformer('sentence-transformers/all-MiniLM-L6-v2')\n",
    "vibe_df = pd.read_pickle(\"vibe_df.pkl\")\n",
    "index = faiss.read_index(\"vibe_faiss.index\")\n",
    "\n",
    "def encode_and_normalize(query):\n",
    "    query_emb = model.encode(query).astype('float32')\n",
    "    faiss.normalize_L2(query_emb.reshape(1, -1))\n",
    "    return query_emb.reshape(1, -1)\n",
    "\n",
    "def search_places_faiss(query, top_k=5):\n",
    "    query_emb = encode_and_normalize(query)\n",
    "    distances, indices = index.search(query_emb, top_k)\n",
    "    results = vibe_df.iloc[indices[0]].copy()\n",
    "    results['score'] = distances[0]\n",
    "    return results[['place_name', 'main_category', 'avg_place_rating', 'score', 'address']]\n"
   ]
  },
  {
   "cell_type": "code",
   "execution_count": 12,
   "id": "0442e2da",
   "metadata": {},
   "outputs": [
    {
     "name": "stdout",
     "output_type": "stream",
     "text": [
      "                                   place_name       main_category  \\\n",
      "243                          I love ic heart   Tourist attraction   \n",
      "197               Indian Flag Tower Bengaluru  Tourist attraction   \n",
      "0    The MadLabs: Where Fun Meets Fascination  Tourist attraction   \n",
      "46        Indira Gandhi Musical Fountain Park                Park   \n",
      "177                Waste to Wonder Theme Park          Theme park   \n",
      "\n",
      "     avg_place_rating     score  \\\n",
      "243               4.4  0.266294   \n",
      "197               5.0  0.248915   \n",
      "0                 4.7  0.242141   \n",
      "46                4.1  0.237324   \n",
      "177               4.1  0.226851   \n",
      "\n",
      "                                               address  \n",
      "243  II, Road No. 2, I C Colony, Borivali West, Mum...  \n",
      "197  National Military Memorial Park, 2, Millers Rd...  \n",
      "0    1st floor, Snow city, Jayamahal Main Rd, oppos...  \n",
      "46   XHPR+4MV, Raj Bhavan Rd, Opposite to Jawahar L...  \n",
      "177  Block A, Ganga Vihar, Sarai Kale Khan, New Del...  \n"
     ]
    }
   ],
   "source": [
    "results = search_places_faiss(\"great vibes for gen z\")\n",
    "print(results)"
   ]
  },
  {
   "cell_type": "markdown",
   "id": "2010050b",
   "metadata": {},
   "source": [
    "**Benefits of using FAISS**\n",
    "1. Handling of millions of vectors\n",
    "2. Uses cosine similarity under the hood"
   ]
  }
 ],
 "metadata": {
  "kernelspec": {
   "display_name": ".venv",
   "language": "python",
   "name": "python3"
  },
  "language_info": {
   "codemirror_mode": {
    "name": "ipython",
    "version": 3
   },
   "file_extension": ".py",
   "mimetype": "text/x-python",
   "name": "python",
   "nbconvert_exporter": "python",
   "pygments_lexer": "ipython3",
   "version": "3.10.18"
  }
 },
 "nbformat": 4,
 "nbformat_minor": 5
}
