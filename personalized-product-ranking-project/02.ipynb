{
 "cells": [
  {
   "cell_type": "code",
   "execution_count": null,
   "id": "d97deb55",
   "metadata": {},
   "outputs": [],
   "source": [
    "import os\n",
    "\n",
    "os.environ['KAGGLE_USERNAME'] = 'USERNAME_GOES_HERE'\n",
    "os.environ['KAGGLE_KEY'] = 'KEY_GOES_HERE'\n",
    "\n",
    "!pip install kaggle\n",
    "!pip install pandas"
   ]
  },
  {
   "cell_type": "code",
   "execution_count": null,
   "id": "7c78b65d",
   "metadata": {},
   "outputs": [],
   "source": [
    "!kaggle datasets download retailrocket/ecommerce-dataset"
   ]
  },
  {
   "cell_type": "code",
   "execution_count": 19,
   "id": "593ef40a",
   "metadata": {},
   "outputs": [],
   "source": [
    "import zipfile\n",
    "with zipfile.ZipFile(\"./ecommerce-dataset.zip\",\"r\") as zip_ref:\n",
    "    zip_ref.extractall(\"ecommerce-dataset\")"
   ]
  },
  {
   "cell_type": "code",
   "execution_count": 24,
   "id": "1425bc14",
   "metadata": {},
   "outputs": [
    {
     "name": "stdout",
     "output_type": "stream",
     "text": [
      "Filtered Events: (966283, 5)\n",
      "Pivoted Item Features: (120034, 998)\n"
     ]
    }
   ],
   "source": [
    "import pandas as pd\n",
    "import os\n",
    "\n",
    "# Step 1: Load 1 million rows from events.csv\n",
    "events_path = os.path.expanduser(\"events.csv\")\n",
    "events = pd.read_csv(events_path, nrows=1_000_000)\n",
    "\n",
    "# Step 2: Filter for \"view\" events\n",
    "filtered_events = events[events[\"event\"] == \"view\"]\n",
    "\n",
    "# Step 3: Load 1 million rows from both parts of item_properties\n",
    "prop1_path = os.path.expanduser(\"item_properties_part1.csv\")\n",
    "prop2_path = os.path.expanduser(\"item_properties_part2.csv\")\n",
    "\n",
    "prop1 = pd.read_csv(prop1_path, nrows=1_000_000)\n",
    "prop2 = pd.read_csv(prop2_path, nrows=1_000_000)\n",
    "\n",
    "item_features = pd.concat([prop1, prop2], ignore_index=True)\n",
    "\n",
    "# Drop timestamp and keep only features of items seen in filtered_events\n",
    "item_features = item_features.drop(columns=[\"timestamp\"], errors=\"ignore\")\n",
    "item_features = item_features[item_features[\"itemid\"].isin(filtered_events[\"itemid\"].unique())]\n",
    "\n",
    "# Pivot to get wide format item features\n",
    "pivoted_item_features = item_features.pivot_table(\n",
    "    index=\"itemid\",\n",
    "    columns=\"property\",\n",
    "    values=\"value\",\n",
    "    aggfunc=\"first\"  # take the first non-null value if duplicates\n",
    ").reset_index()\n",
    "\n",
    "# Output the shapes to confirm\n",
    "print(\"Filtered Events:\", filtered_events.shape)\n",
    "print(\"Pivoted Item Features:\", pivoted_item_features.shape)"
   ]
  },
  {
   "cell_type": "code",
   "execution_count": null,
   "id": "ef59155c",
   "metadata": {},
   "outputs": [
    {
     "name": "stderr",
     "output_type": "stream",
     "text": [
      "/var/folders/ps/jbnnzh3d6d10hz5c1w_2_wwm0000gp/T/ipykernel_70293/2318170566.py:4: SettingWithCopyWarning: \n",
      "A value is trying to be set on a copy of a slice from a DataFrame.\n",
      "Try using .loc[row_indexer,col_indexer] = value instead\n",
      "\n",
      "See the caveats in the documentation: https://pandas.pydata.org/pandas-docs/stable/user_guide/indexing.html#returning-a-view-versus-a-copy\n",
      "  filtered_events[\"event_time\"] = pd.to_datetime(filtered_events[\"timestamp\"], unit='ms')\n"
     ]
    },
    {
     "name": "stdout",
     "output_type": "stream",
     "text": [
      "       timestamp  visitorid event  itemid  transactionid  \\\n",
      "0  1439487966444          1  view   72028            NaN   \n",
      "1  1438969904567          2  view  325215            NaN   \n",
      "2  1438970013790          2  view  325215            NaN   \n",
      "3  1438970212664          2  view  259884            NaN   \n",
      "4  1438970468920          2  view  216305            NaN   \n",
      "\n",
      "               event_time  time_diff_sec  user_event_count  item_view_count  \n",
      "0 2015-08-13 17:46:06.444          0.000                 1               17  \n",
      "1 2015-08-07 17:51:44.567          0.000                 8               30  \n",
      "2 2015-08-07 17:53:33.790        109.223                 8               30  \n",
      "3 2015-08-07 17:56:52.664        198.874                 8               81  \n",
      "4 2015-08-07 18:01:08.920        256.256                 8              254  \n"
     ]
    }
   ],
   "source": [
    "import numpy as np\n",
    "\n",
    "# Convert timestamp to datetime\n",
    "filtered_events[\"event_time\"] = pd.to_datetime(filtered_events[\"timestamp\"], unit='ms')\n",
    "\n",
    "# Sort by user and time\n",
    "filtered_events = filtered_events.sort_values([\"visitorid\", \"event_time\"])\n",
    "\n",
    "# Feature 1: User activity level\n",
    "user_activity = (\n",
    "    filtered_events.groupby(\"visitorid\")\n",
    "    .size()\n",
    "    .rename(\"user_event_count\")\n",
    "    .reset_index()\n",
    ")\n",
    "\n",
    "# Feature 2: Item popularity\n",
    "item_popularity = (\n",
    "    filtered_events.groupby(\"itemid\")\n",
    "    .size()\n",
    "    .rename(\"item_view_count\")\n",
    "    .reset_index()\n",
    ")\n",
    "\n",
    "# Feature 3: Time since last event for user\n",
    "filtered_events[\"time_diff_sec\"] = (\n",
    "    filtered_events.groupby(\"visitorid\")[\"event_time\"]\n",
    "    .diff()\n",
    "    .dt.total_seconds()\n",
    "    .fillna(0)\n",
    ")\n",
    "\n",
    "# Merge user and item features back to filtered_events\n",
    "filtered_events = filtered_events.merge(user_activity, on=\"visitorid\", how=\"left\")\n",
    "filtered_events = filtered_events.merge(item_popularity, on=\"itemid\", how=\"left\")\n",
    "\n",
    "# Output sample\n",
    "print(filtered_events.head())"
   ]
  },
  {
   "cell_type": "markdown",
   "id": "5beea3e9",
   "metadata": {},
   "source": [
    "In Summary\n",
    "| **Stage**             | **What We Did**                          | **Why It Matters**                                          |\n",
    "|-----------------------|------------------------------------------|--------------------------------------------------------------|\n",
    "| Raw Events            | Loaded raw clickstream data              | Realistic user behavior source                               |\n",
    "| View Filtering        | Focused on view events                   | Primary signal for recommendation                            |\n",
    "| Time Conversion       | Converted UNIX to datetime               | Enables recency, session modeling                            |\n",
    "| Metadata Join         | Added item-level features (pivoted)      | Supports content-based and hybrid recommendations            |\n",
    "| Feature Engineering   | Created user/item/time features          | Empowers predictive models with behavioral signals           |"
   ]
  },
  {
   "cell_type": "code",
   "execution_count": null,
   "id": "faacc3ed",
   "metadata": {},
   "outputs": [],
   "source": [
    "import pandas as pd\n",
    "\n",
    "# Convert 'timestamp' to datetime if not already done\n",
    "filtered_events['event_time'] = pd.to_datetime(filtered_events['timestamp'], unit='s')\n",
    "\n",
    "\n",
    "# Step 4.1: Calculate time difference between consecutive events per user\n",
    "SESSION_TIMEOUT = 30 * 60  # 30 minutes in seconds\n",
    "\n",
    "filtered_events = filtered_events.sort_values(['visitorid', 'event_time'])\n",
    "filtered_events['time_gap'] = (\n",
    "    filtered_events.groupby('visitorid')['event_time']\n",
    "    .diff()\n",
    "    .dt.total_seconds()\n",
    "    .fillna(0)\n",
    ")\n",
    "\n",
    "# Step 4.2: Mark start of new sessions\n",
    "filtered_events['new_session'] = (filtered_events['time_gap'] > SESSION_TIMEOUT).astype(int)\n",
    "\n",
    "# Step 4.3: Assign session IDs per user\n",
    "filtered_events['session_id'] = filtered_events.groupby('visitorid')['new_session'].cumsum()\n",
    "\n",
    "# Step 4.4: Create a unique session key combining user and session ID\n",
    "filtered_events['session'] = filtered_events['visitorid'].astype(str) + '_' + filtered_events['session_id'].astype(str)\n",
    "\n",
    "# Check number of sessions\n",
    "print(\"Number of sessions:\", filtered_events['session'].nunique())\n",
    "\n",
    "# Preview sessions\n",
    "print(filtered_events[['visitorid', 'event_time', 'session', 'itemid']].head(10))"
   ]
  }
 ],
 "metadata": {
  "kernelspec": {
   "display_name": ".venv",
   "language": "python",
   "name": "python3"
  },
  "language_info": {
   "codemirror_mode": {
    "name": "ipython",
    "version": 3
   },
   "file_extension": ".py",
   "mimetype": "text/x-python",
   "name": "python",
   "nbconvert_exporter": "python",
   "pygments_lexer": "ipython3",
   "version": "3.10.14"
  }
 },
 "nbformat": 4,
 "nbformat_minor": 5
}
