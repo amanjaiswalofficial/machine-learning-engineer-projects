{
 "cells": [
  {
   "cell_type": "code",
   "execution_count": 2,
   "id": "2368ca8c-9d0a-4d22-a5a0-4578fcc3ab3c",
   "metadata": {},
   "outputs": [],
   "source": [
    "from openai import OpenAI\n",
    "import ollama\n",
    "import gradio as gr\n",
    "import json\n",
    "\n",
    "def get_response(messages):\n",
    "    openai = OpenAI(base_url='http://localhost:11434/v1', api_key='ollama')\n",
    "    response = openai.chat.completions.create(model=\"gemma2:2b\",messages=messages, stream=False)\n",
    "    return response.choices[0].message.content\n"
   ]
  },
  {
   "cell_type": "code",
   "execution_count": 3,
   "id": "07f2b315-2690-44f5-8f61-bfa440fec285",
   "metadata": {},
   "outputs": [],
   "source": [
    "ticket_prices = {\"london\": \"$799\", \"paris\": \"$899\", \"tokyo\": \"$1400\", \"berlin\": \"$499\"}\n",
    "\n",
    "def get_ticket_price(destination_city):\n",
    "    print(f\"Tool get_ticket_price called for {destination_city}\")\n",
    "    city = destination_city.lower()\n",
    "    return ticket_prices.get(city, \"Unknown\")\n",
    "    "
   ]
  },
  {
   "cell_type": "code",
   "execution_count": 5,
   "id": "30288338-ae0b-4000-b01d-c07efebd8e0f",
   "metadata": {},
   "outputs": [],
   "source": [
    "price_function = {\n",
    "    \"name\": \"get_ticket_price\",\n",
    "    \"description\": \"Get the price of a return ticket to the destination city. Call this whenever you need to know the ticket price, for example when a customer asks 'How much is a ticket to this city'\",\n",
    "    \"parameters\": {\n",
    "        \"type\": \"object\",\n",
    "        \"properties\": {\n",
    "            \"destination_city\": {\n",
    "                \"type\": \"string\",\n",
    "                \"description\": \"The city that the customer wants to travel to\",\n",
    "            },\n",
    "        },\n",
    "        \"required\": [\"destination_city\"],\n",
    "        \"additionalProperties\": False\n",
    "    }\n",
    "}\n",
    "tools = [{\"type\": \"function\", \"function\": price_function}]"
   ]
  },
  {
   "cell_type": "code",
   "execution_count": 14,
   "id": "e7ff092b-f84f-4208-aadc-3d2e18d29a3b",
   "metadata": {},
   "outputs": [],
   "source": [
    "system_message = \"You are a helpful assistant for an Airline called FlightAI. \"\n",
    "system_message += \"Give short, courteous answers, no more than 1 sentence. \"\n",
    "system_message += \"Always be accurate. If you don't know the answer, say so.\"\n",
    "\n",
    "def chat(message, history):\n",
    "    messages = [{\"role\": \"system\", \"content\": system_message}] + history + [{\"role\": \"user\", \"content\": message}]\n",
    "\n",
    "    # does not work with open source models yet\n",
    "    # openai = OpenAI(base_url='http://localhost:11434/v1', api_key='ollama')\n",
    "    # response = openai.chat.completions.create(model=\"gemma2:2b\",messages=messages, stream=False, tools=tools)\n",
    "\n",
    "    import os\n",
    "    os.environ['OPENAI_API_KEY'] = \"provide_key_here\"\n",
    "    MODEL = \"gpt-4o-mini\"\n",
    "    openai = OpenAI()\n",
    "    response = openai.chat.completions.create(model=MODEL, messages=messages, tools=tools)\n",
    "\n",
    "    if response.choices[0].finish_reason==\"tool_calls\":\n",
    "        message = response.choices[0].message\n",
    "        response, city = handle_tool_call(message)\n",
    "        messages.append(message)\n",
    "        messages.append(response)\n",
    "        response = openai.chat.completions.create(model=\"gemma2:2b\", messages=messages)\n",
    "    \n",
    "    return response.choices[0].message.content"
   ]
  },
  {
   "cell_type": "code",
   "execution_count": 15,
   "id": "2086d338-da82-425b-beb4-41ffd44664f0",
   "metadata": {},
   "outputs": [],
   "source": [
    "def handle_tool_call(message):\n",
    "    tool_call = message.tool_calls[0]\n",
    "    arguments = json.loads(tool_call.function.arguments)\n",
    "    city = arguments.get('destination_city')\n",
    "    price = get_ticket_price(city)\n",
    "    response = {\n",
    "        \"role\": \"tool\",\n",
    "        \"content\": json.dumps({\"destination_city\": city,\"price\": price}),\n",
    "        \"tool_call_id\": message.tool_calls[0].id\n",
    "    }\n",
    "    return response, city"
   ]
  },
  {
   "cell_type": "code",
   "execution_count": null,
   "id": "c2c8f856-e66d-4f75-b0b5-9246a20e7f5e",
   "metadata": {},
   "outputs": [],
   "source": [
    "gr.ChatInterface(fn=chat, type=\"messages\").launch()"
   ]
  },
  {
   "cell_type": "code",
   "execution_count": 17,
   "id": "8e3738e6-bc09-428c-a992-7b31dc411072",
   "metadata": {},
   "outputs": [
    {
     "name": "stdout",
     "output_type": "stream",
     "text": [
      "\n",
      "User: Hey there, I'd like to go to London\n",
      "Agent: Would you like to book a trip to London\n",
      "User: Yes\n",
      "Agent: Trip to london would be approx 799\n",
      "..\n",
      "User: How about Timbaktoo\n",
      "Agent: Sorry, I don't have this information\n",
      "\n"
     ]
    }
   ],
   "source": [
    "print(\"\"\"\n",
    "User: Hey there, I'd like to go to London\n",
    "Agent: Would you like to book a trip to London\n",
    "User: Yes\n",
    "Agent: Trip to london would be approx 799\n",
    "..\n",
    "User: How about Timbaktoo\n",
    "Agent: Sorry, I don't have this information\n",
    "\"\"\")"
   ]
  }
 ],
 "metadata": {
  "kernelspec": {
   "display_name": "Python 3 (ipykernel)",
   "language": "python",
   "name": "python3"
  },
  "language_info": {
   "codemirror_mode": {
    "name": "ipython",
    "version": 3
   },
   "file_extension": ".py",
   "mimetype": "text/x-python",
   "name": "python",
   "nbconvert_exporter": "python",
   "pygments_lexer": "ipython3",
   "version": "3.12.0"
  }
 },
 "nbformat": 4,
 "nbformat_minor": 5
}
