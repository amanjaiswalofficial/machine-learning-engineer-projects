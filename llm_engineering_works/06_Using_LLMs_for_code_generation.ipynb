{
 "cells": [
  {
   "cell_type": "code",
   "execution_count": 2,
   "id": "d9950644-ac3b-4f33-8105-6a5958820b54",
   "metadata": {},
   "outputs": [],
   "source": [
    "from openai import OpenAI\n",
    "import ollama\n",
    "MODEL_LLAMA = 'gemma2:2b'\n",
    "ollama_via_openai = OpenAI(base_url='http://localhost:11434/v1', api_key='ollama')\n"
   ]
  },
  {
   "cell_type": "code",
   "execution_count": 3,
   "id": "fb2a85bd-a051-4ba9-9572-c16d7cafd71c",
   "metadata": {},
   "outputs": [],
   "source": [
    "system_message = \"You are an assistant that reimplements Python code in high performance C++ for an M1 Mac. \"\n",
    "system_message += \"Respond only with C++ code; use comments sparingly and do not provide any explanation other than occasional comments. \"\n",
    "system_message += \"The C++ response needs to produce an identical output in the fastest possible time.\"\n",
    "\n",
    "def user_prompt_for(python):\n",
    "    user_prompt = \"Rewrite this Python code in C++ with the fastest possible implementation that produces identical output in the least time. \"\n",
    "    user_prompt += \"Respond only with C++ code; do not explain your work other than a few comments. \"\n",
    "    user_prompt += \"Pay attention to number types to ensure no int overflows. Remember to #include all necessary C++ packages such as iomanip.\\n\\n\"\n",
    "    user_prompt += python\n",
    "    return user_prompt"
   ]
  },
  {
   "cell_type": "code",
   "execution_count": 4,
   "id": "032a798d-f340-48ef-8aa3-d1dc87808ab3",
   "metadata": {},
   "outputs": [],
   "source": [
    "def messages_for(python):\n",
    "    return [\n",
    "        {\"role\": \"system\", \"content\": system_message},\n",
    "        {\"role\": \"user\", \"content\": user_prompt_for(python)}\n",
    "    ]"
   ]
  },
  {
   "cell_type": "code",
   "execution_count": 5,
   "id": "ed09b856-2c81-4441-9f32-d061f30356f8",
   "metadata": {},
   "outputs": [],
   "source": [
    "def write_output(cpp):\n",
    "    code = cpp.replace(\"```cpp\",\"\").replace(\"```\",\"\")\n",
    "    with open(\"optimized.cpp\", \"w\") as f:\n",
    "        f.write(code)"
   ]
  },
  {
   "cell_type": "code",
   "execution_count": 6,
   "id": "10b81563-0996-46be-a63b-3950c2b0c0ba",
   "metadata": {},
   "outputs": [],
   "source": [
    "def optimize_gpt(python):    \n",
    "    stream = ollama_via_openai.chat.completions.create(model=MODEL_LLAMA, messages=messages_for(python), stream=True)\n",
    "    reply = \"\"\n",
    "    for chunk in stream:\n",
    "        fragment = chunk.choices[0].delta.content or \"\"\n",
    "        reply += fragment\n",
    "        print(fragment, end='', flush=True)\n",
    "    write_output(reply)"
   ]
  },
  {
   "cell_type": "code",
   "execution_count": 11,
   "id": "b41cc8fc-d6b6-4f72-a972-b702e0aa6e8c",
   "metadata": {},
   "outputs": [],
   "source": [
    "pi = \"\"\"\n",
    "import time\n",
    "\n",
    "def calculate(iterations, param1, param2):\n",
    "    result = 1.0\n",
    "    for i in range(1, iterations+1):\n",
    "        j = i * param1 - param2\n",
    "        result -= (1/j)\n",
    "        j = i * param1 + param2\n",
    "        result += (1/j)\n",
    "    return result\n",
    "\n",
    "start_time = time.time()\n",
    "result = calculate(100, 4, 1) * 4\n",
    "end_time = time.time()\n",
    "\n",
    "print(f\"Result: {result:.12f}\")\n",
    "print(f\"Execution Time: {(end_time - start_time):.6f} seconds\")\n",
    "\"\"\""
   ]
  },
  {
   "cell_type": "code",
   "execution_count": 12,
   "id": "01a59ece-476c-4009-a333-cf984d49e4b1",
   "metadata": {},
   "outputs": [
    {
     "name": "stdout",
     "output_type": "stream",
     "text": [
      "Result: 3.146567747183\n",
      "Execution Time: 0.000000 seconds\n"
     ]
    }
   ],
   "source": [
    "exec(pi)"
   ]
  },
  {
   "cell_type": "code",
   "execution_count": 15,
   "id": "693b0d41-0113-4525-b078-dd51c7124995",
   "metadata": {},
   "outputs": [
    {
     "name": "stdout",
     "output_type": "stream",
     "text": [
      "```cpp\n",
      "#include <iostream>\n",
      "#include <iomanip>\n",
      "#include <chrono>\n",
      "#include <thread>\n",
      "\n",
      "using namespace std;\n",
      "\n",
      "void calculate(int iterations, double param1, double param2) {\n",
      "    double result = 1.0; \n",
      "    for (int i = 1; i <= iterations + 1; ++i) {\n",
      "        double j = i * param1 - param2;\n",
      "        result -= (1 / j);\n",
      "        j = i * param1 + param2;\n",
      "        result += (1 / j);\n",
      "    }\n",
      "    cout << result << \" \";  \n",
      "}\n",
      "\n",
      "int main() {\n",
      "    double iterations = 100;    \n",
      "    double param1 = 4.0;    \n",
      "    double param2 = 1.0; \n",
      "\n",
      "    // Time performance measurement \n",
      "    auto start = chrono::high_resolution_clock::now();  \n",
      "    calculate(iterations, param1, param2); \n",
      "    auto end = chrono::high_resolution_clock::now();   \n",
      "    auto duration = chrono::duration_cast<chrono::milliseconds>(end - start).count();\n",
      "\n",
      "    cout << \"Result: \" << setprecision(12) << fixed << calculate(iterations, param1, param2); \n",
      "    cout << \" Execution Time: [\" << duration << \" ms]\" << endl;   \n",
      "}\n",
      "\n",
      "\n",
      "\n",
      "```"
     ]
    }
   ],
   "source": [
    "optimize_gpt(pi)"
   ]
  }
 ],
 "metadata": {
  "kernelspec": {
   "display_name": "Python 3 (ipykernel)",
   "language": "python",
   "name": "python3"
  },
  "language_info": {
   "codemirror_mode": {
    "name": "ipython",
    "version": 3
   },
   "file_extension": ".py",
   "mimetype": "text/x-python",
   "name": "python",
   "nbconvert_exporter": "python",
   "pygments_lexer": "ipython3",
   "version": "3.12.0"
  }
 },
 "nbformat": 4,
 "nbformat_minor": 5
}
