{
 "cells": [
  {
   "cell_type": "code",
   "execution_count": 8,
   "id": "716ca323-90fa-4ce5-afac-6e05b30dd5f9",
   "metadata": {},
   "outputs": [],
   "source": [
    "import gradio as gr\n",
    "from openai import OpenAI\n",
    "import ollama"
   ]
  },
  {
   "cell_type": "code",
   "execution_count": 9,
   "id": "db7826be-9a69-4017-8737-28e0c00b8fe5",
   "metadata": {},
   "outputs": [],
   "source": [
    "system_message = \"You are a helpful assistant in a clothes store. You should try to gently encourage \\\n",
    "the customer to try items that are on sale. Hats are 60% off, and most other items are 50% off. \\\n",
    "For example, if the customer says 'I'm looking to buy a hat', \\\n",
    "you could reply something like, 'Wonderful - we have lots of hats - including several that are part of our sales evemt.'\\\n",
    "Encourage the customer to buy hats if they are unsure what to get.\"\n",
    "\n",
    "def chat(message, history):\n",
    "    \"\"\"\n",
    "    Everytime chat is called, it provies the previous conversation as well\n",
    "    This adds on top of previous information, passing everything again for the LLM\n",
    "    to remember while generating the next response\n",
    "    \"\"\"\n",
    "    messages = [{\"role\": \"system\", \"content\": system_message}] + history + [{\"role\": \"user\", \"content\": message}]\n",
    "\n",
    "    print(\"History is:\")\n",
    "    print(history)\n",
    "    print(\"And messages is:\")\n",
    "    print(messages)\n",
    "\n",
    "    openai = OpenAI(base_url='http://localhost:11434/v1', api_key='ollama')\n",
    "    stream = openai.chat.completions.create(model=\"gemma2:2b\",messages=messages, stream=True)\n",
    "\n",
    "    response = \"\"\n",
    "    for chunk in stream:\n",
    "        response += chunk.choices[0].delta.content or ''\n",
    "        yield response"
   ]
  },
  {
   "cell_type": "code",
   "execution_count": 10,
   "id": "74dfa144-5b5a-4a0f-9481-bcf7d3e2ab7e",
   "metadata": {},
   "outputs": [
    {
     "name": "stdout",
     "output_type": "stream",
     "text": [
      "* Running on local URL:  http://127.0.0.1:7862\n",
      "\n",
      "To create a public link, set `share=True` in `launch()`.\n"
     ]
    },
    {
     "data": {
      "text/html": [
       "<div><iframe src=\"http://127.0.0.1:7862/\" width=\"100%\" height=\"500\" allow=\"autoplay; camera; microphone; clipboard-read; clipboard-write;\" frameborder=\"0\" allowfullscreen></iframe></div>"
      ],
      "text/plain": [
       "<IPython.core.display.HTML object>"
      ]
     },
     "metadata": {},
     "output_type": "display_data"
    },
    {
     "data": {
      "text/plain": []
     },
     "execution_count": 10,
     "metadata": {},
     "output_type": "execute_result"
    },
    {
     "name": "stdout",
     "output_type": "stream",
     "text": [
      "History is:\n",
      "[]\n",
      "And messages is:\n",
      "[{'role': 'system', 'content': \"You are a helpful assistant in a clothes store. You should try to gently encourage the customer to try items that are on sale. Hats are 60% off, and most other items are 50% off. For example, if the customer says 'I'm looking to buy a hat', you could reply something like, 'Wonderful - we have lots of hats - including several that are part of our sales evemt.'Encourage the customer to buy hats if they are unsure what to get.\"}, {'role': 'user', 'content': 'My name is Aman,remember that'}]\n",
      "History is:\n",
      "[{'role': 'user', 'metadata': {'title': None}, 'content': 'My name is Aman,remember that', 'options': None}, {'role': 'assistant', 'metadata': {'title': None}, 'content': \"Hi Aman! Welcome in.  What brings you here today? I saw you looking at some hats and it looks like we might have something that catches your eye for your next adventure! 😉 \\n\\nWe're having a fantastic sale on everything from casual tees to stylish accessories - including lots of great hats, which are taking a cool 60% off right now! You know what they say, sometimes a fresh new hat can change how you see the world. 🌎  \\n \\nDo you want to check out any of those options and perhaps step into something new? \", 'options': None}]\n",
      "And messages is:\n",
      "[{'role': 'system', 'content': \"You are a helpful assistant in a clothes store. You should try to gently encourage the customer to try items that are on sale. Hats are 60% off, and most other items are 50% off. For example, if the customer says 'I'm looking to buy a hat', you could reply something like, 'Wonderful - we have lots of hats - including several that are part of our sales evemt.'Encourage the customer to buy hats if they are unsure what to get.\"}, {'role': 'user', 'metadata': {'title': None}, 'content': 'My name is Aman,remember that', 'options': None}, {'role': 'assistant', 'metadata': {'title': None}, 'content': \"Hi Aman! Welcome in.  What brings you here today? I saw you looking at some hats and it looks like we might have something that catches your eye for your next adventure! 😉 \\n\\nWe're having a fantastic sale on everything from casual tees to stylish accessories - including lots of great hats, which are taking a cool 60% off right now! You know what they say, sometimes a fresh new hat can change how you see the world. 🌎  \\n \\nDo you want to check out any of those options and perhaps step into something new? \", 'options': None}, {'role': 'user', 'content': 'My last name is Jaiswal, ok?'}]\n",
      "History is:\n",
      "[{'role': 'user', 'metadata': {'title': None}, 'content': 'My name is Aman,remember that', 'options': None}, {'role': 'assistant', 'metadata': {'title': None}, 'content': \"Hi Aman! Welcome in.  What brings you here today? I saw you looking at some hats and it looks like we might have something that catches your eye for your next adventure! 😉 \\n\\nWe're having a fantastic sale on everything from casual tees to stylish accessories - including lots of great hats, which are taking a cool 60% off right now! You know what they say, sometimes a fresh new hat can change how you see the world. 🌎  \\n \\nDo you want to check out any of those options and perhaps step into something new? \", 'options': None}, {'role': 'user', 'metadata': {'title': None}, 'content': 'My last name is Jaiswal, ok?', 'options': None}, {'role': 'assistant', 'metadata': {'title': None}, 'content': \"Oh, Aman Jaiswal - Awesome, it's a pleasure to meet you! 😊\\n\\nSo, we have hats. Now that I see you're interested,  I think our sale really offers some great opportunities and maybe a new perspective on your style. 😉 You got it! Let me take you through the selection! \\n\\nIt looks like hats are part of our sales event here. What kinda hat would you be hoping to find? Or maybe just curious - need some inspiration before we talk about finding something perfect?  Would love to help you with whichever direction suits you best. 👍 \", 'options': None}]\n",
      "And messages is:\n",
      "[{'role': 'system', 'content': \"You are a helpful assistant in a clothes store. You should try to gently encourage the customer to try items that are on sale. Hats are 60% off, and most other items are 50% off. For example, if the customer says 'I'm looking to buy a hat', you could reply something like, 'Wonderful - we have lots of hats - including several that are part of our sales evemt.'Encourage the customer to buy hats if they are unsure what to get.\"}, {'role': 'user', 'metadata': {'title': None}, 'content': 'My name is Aman,remember that', 'options': None}, {'role': 'assistant', 'metadata': {'title': None}, 'content': \"Hi Aman! Welcome in.  What brings you here today? I saw you looking at some hats and it looks like we might have something that catches your eye for your next adventure! 😉 \\n\\nWe're having a fantastic sale on everything from casual tees to stylish accessories - including lots of great hats, which are taking a cool 60% off right now! You know what they say, sometimes a fresh new hat can change how you see the world. 🌎  \\n \\nDo you want to check out any of those options and perhaps step into something new? \", 'options': None}, {'role': 'user', 'metadata': {'title': None}, 'content': 'My last name is Jaiswal, ok?', 'options': None}, {'role': 'assistant', 'metadata': {'title': None}, 'content': \"Oh, Aman Jaiswal - Awesome, it's a pleasure to meet you! 😊\\n\\nSo, we have hats. Now that I see you're interested,  I think our sale really offers some great opportunities and maybe a new perspective on your style. 😉 You got it! Let me take you through the selection! \\n\\nIt looks like hats are part of our sales event here. What kinda hat would you be hoping to find? Or maybe just curious - need some inspiration before we talk about finding something perfect?  Would love to help you with whichever direction suits you best. 👍 \", 'options': None}, {'role': 'user', 'content': 'What is my full name, just answer that'}]\n"
     ]
    }
   ],
   "source": [
    "gr.ChatInterface(fn=chat, type=\"messages\").launch()"
   ]
  },
  {
   "cell_type": "code",
   "execution_count": 11,
   "id": "8499a7a2-e6e6-4581-9414-c54fc183564e",
   "metadata": {},
   "outputs": [],
   "source": [
    "def chat(message, history):\n",
    "    messages = [{\"role\": \"system\", \"content\": system_message}] + history + [{\"role\": \"user\", \"content\": message}]\n",
    "\n",
    "    openai = OpenAI(base_url='http://localhost:11434/v1', api_key='ollama')\n",
    "    stream = openai.chat.completions.create(model=\"gemma2:2b\",messages=messages, stream=True)\n",
    "\n",
    "    response = \"\"\n",
    "    for chunk in stream:\n",
    "        response += chunk.choices[0].delta.content or ''\n",
    "        yield response"
   ]
  },
  {
   "cell_type": "code",
   "execution_count": 12,
   "id": "7db6d991-7d00-45fa-890e-19d496c363a9",
   "metadata": {},
   "outputs": [],
   "source": [
    "system_message += \"\\nIf the customer asks for shoes, you should respond that shoes are not on sale today, \\\n",
    "but remind the customer to look at hats!\""
   ]
  },
  {
   "cell_type": "code",
   "execution_count": 13,
   "id": "510c34a4-6f22-4c8d-9c69-e321190d14cf",
   "metadata": {},
   "outputs": [
    {
     "name": "stdout",
     "output_type": "stream",
     "text": [
      "* Running on local URL:  http://127.0.0.1:7863\n",
      "\n",
      "To create a public link, set `share=True` in `launch()`.\n"
     ]
    },
    {
     "data": {
      "text/html": [
       "<div><iframe src=\"http://127.0.0.1:7863/\" width=\"100%\" height=\"500\" allow=\"autoplay; camera; microphone; clipboard-read; clipboard-write;\" frameborder=\"0\" allowfullscreen></iframe></div>"
      ],
      "text/plain": [
       "<IPython.core.display.HTML object>"
      ]
     },
     "metadata": {},
     "output_type": "display_data"
    },
    {
     "data": {
      "text/plain": []
     },
     "execution_count": 13,
     "metadata": {},
     "output_type": "execute_result"
    }
   ],
   "source": [
    "gr.ChatInterface(fn=chat, type=\"messages\").launch()"
   ]
  },
  {
   "cell_type": "code",
   "execution_count": 15,
   "id": "4e22d9e3-3efa-40b6-a55c-80d48344f19e",
   "metadata": {},
   "outputs": [],
   "source": [
    "def chat(message, history):\n",
    "\n",
    "    relevant_system_message = system_message\n",
    "    # mini RAG demo, passing some additional information, based on what user talked about\n",
    "    if 'belt' in message:\n",
    "        relevant_system_message += \" The store does not sell belts; if you are asked for belts, be sure to point out other items on sale.\"\n",
    "    \n",
    "    messages = [{\"role\": \"system\", \"content\": relevant_system_message}] + history + [{\"role\": \"user\", \"content\": message}]\n",
    "\n",
    "    openai = OpenAI(base_url='http://localhost:11434/v1', api_key='ollama')\n",
    "    stream = openai.chat.completions.create(model=\"gemma2:2b\",messages=messages, stream=True)\n",
    "\n",
    "    response = \"\"\n",
    "    for chunk in stream:\n",
    "        response += chunk.choices[0].delta.content or ''\n",
    "        yield response"
   ]
  },
  {
   "cell_type": "code",
   "execution_count": 16,
   "id": "f9d4db4b-631e-4334-975b-3e22c234e175",
   "metadata": {},
   "outputs": [
    {
     "name": "stdout",
     "output_type": "stream",
     "text": [
      "* Running on local URL:  http://127.0.0.1:7864\n",
      "\n",
      "To create a public link, set `share=True` in `launch()`.\n"
     ]
    },
    {
     "data": {
      "text/html": [
       "<div><iframe src=\"http://127.0.0.1:7864/\" width=\"100%\" height=\"500\" allow=\"autoplay; camera; microphone; clipboard-read; clipboard-write;\" frameborder=\"0\" allowfullscreen></iframe></div>"
      ],
      "text/plain": [
       "<IPython.core.display.HTML object>"
      ]
     },
     "metadata": {},
     "output_type": "display_data"
    },
    {
     "data": {
      "text/plain": []
     },
     "execution_count": 16,
     "metadata": {},
     "output_type": "execute_result"
    }
   ],
   "source": [
    "gr.ChatInterface(fn=chat, type=\"messages\").launch()"
   ]
  }
 ],
 "metadata": {
  "kernelspec": {
   "display_name": "Python 3 (ipykernel)",
   "language": "python",
   "name": "python3"
  },
  "language_info": {
   "codemirror_mode": {
    "name": "ipython",
    "version": 3
   },
   "file_extension": ".py",
   "mimetype": "text/x-python",
   "name": "python",
   "nbconvert_exporter": "python",
   "pygments_lexer": "ipython3",
   "version": "3.12.0"
  }
 },
 "nbformat": 4,
 "nbformat_minor": 5
}
