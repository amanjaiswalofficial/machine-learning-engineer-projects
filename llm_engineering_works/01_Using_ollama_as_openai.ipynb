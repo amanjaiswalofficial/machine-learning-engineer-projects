{
 "cells": [
  {
   "cell_type": "code",
   "execution_count": 1,
   "id": "ea16c95b-9a41-4f9a-aa90-8a61c085ee70",
   "metadata": {},
   "outputs": [
    {
     "name": "stdin",
     "output_type": "stream",
     "text": [
      "Ask your question: What is the date today\n"
     ]
    },
    {
     "name": "stdout",
     "output_type": "stream",
     "text": [
      "\n",
      "\n"
     ]
    },
    {
     "data": {
      "text/markdown": [
       "Let's break down how to retrieve the current date in Python.\n",
       "\n",
       "**Understanding `date` Object**\n",
       "\n",
       "Python offers an incredibly convenient way to work with dates using its built-in `datetime` module. Here, the `date` object specifically encapsulates information about just the date itself:\n",
       "\n",
       " * **What it is:**  It represents a date without time of day (year, month, day).\n",
       " * **Uses:** Perfect for generating reports, building calendars, and handling dates in calculations or comparisons. \n",
       "\n",
       "**Getting Today's Date**\n",
       "   ```python\n",
       "   import datetime\n",
       "   today = datetime.date.today() \n",
       "\n",
       "   # Output the date\n",
       "   print(today)\n",
       "   ```\n",
       "\n",
       "**Explanation**\n",
       "*  **`import datetime`:** This line imports the `datetime` module, giving you access to its functions.\n",
       "* **`datetime.date.today()`:** This accesses our primary tool for getting the current date – it automatically handles all the details within your environment (system clock and timezone) with precision. \n",
       "\n",
       "Let's explore some variations:\n",
       "\n",
       "**1. Specific Formats**  Convert the `today` object into more readable strings that align with your preferred structure,  using methods from the `strftime()` function.\n",
       "\n",
       "```python\n",
       "import datetime\n",
       "\n",
       "today = datetime.date.today()\n",
       "\n",
       "# Format the date as days and month:\n",
       "print(today.strftime(\"%A %B %d, %Y\")) # Tuesday June 15, 2023 \n",
       "\n",
       "#  Full Year (e.g., 'today')\n",
       "print(today.year)       \n",
       "\n",
       "```\n",
       "\n",
       "\n",
       "\n",
       " **Key Point:** `datetime` offers a diverse range of date/time manipulation tools. Use the methods within this module to ensure you're working with time zone-aware dates! \n",
       "\n",
       "\n",
       "Let me know if you want a deeper dive into manipulating specific dates or have any further questions!"
      ],
      "text/plain": [
       "<IPython.core.display.Markdown object>"
      ]
     },
     "metadata": {},
     "output_type": "display_data"
    }
   ],
   "source": [
    "from IPython.display import Markdown, display, update_display\n",
    "from openai import OpenAI\n",
    "import ollama\n",
    "\n",
    "ollama_via_openai = OpenAI(base_url='http://localhost:11434/v1', api_key='ollama')\n",
    "\n",
    "question = input(\"Ask your question:\")\n",
    "\n",
    "MODEL_LLAMA = 'gemma2:2b'\n",
    "\n",
    "system_prompt = \"You are a helpful technical tutor who answers questions about python code, software engineering, data science and LLMs\"\n",
    "user_prompt = \"Please give a detailed explanation to the following question: \" + question\n",
    "\n",
    "message_body = [\n",
    "    {\"role\": \"system\", \"content\": system_prompt},\n",
    "    {\"role\": \"user\", \"content\": user_prompt}\n",
    "]\n",
    "\n",
    "# response = ollama.chat(model=MODEL_LLAMA, messages=message_body)\n",
    "# reply = response['message']['content']\n",
    "# display(Markdown(reply))\n",
    "\n",
    "response = ollama_via_openai.chat.completions.create(model=MODEL_LLAMA,\n",
    "                                                     messages=message_body)\n",
    "print(\"\\n\")\n",
    "display(Markdown(response.choices[0].message.content))"
   ]
  }
 ],
 "metadata": {
  "kernelspec": {
   "display_name": "Python 3 (ipykernel)",
   "language": "python",
   "name": "python3"
  },
  "language_info": {
   "codemirror_mode": {
    "name": "ipython",
    "version": 3
   },
   "file_extension": ".py",
   "mimetype": "text/x-python",
   "name": "python",
   "nbconvert_exporter": "python",
   "pygments_lexer": "ipython3",
   "version": "3.12.0"
  }
 },
 "nbformat": 4,
 "nbformat_minor": 5
}
