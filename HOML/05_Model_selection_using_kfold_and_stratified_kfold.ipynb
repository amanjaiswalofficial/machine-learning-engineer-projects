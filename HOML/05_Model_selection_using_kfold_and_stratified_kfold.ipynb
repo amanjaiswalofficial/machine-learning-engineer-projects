{
  "nbformat": 4,
  "nbformat_minor": 0,
  "metadata": {
    "colab": {
      "provenance": [],
      "authorship_tag": "ABX9TyM+J7WBCECCJ2EIzmcmsaOM",
      "include_colab_link": true
    },
    "kernelspec": {
      "name": "python3",
      "display_name": "Python 3"
    },
    "language_info": {
      "name": "python"
    }
  },
  "cells": [
    {
      "cell_type": "markdown",
      "metadata": {
        "id": "view-in-github",
        "colab_type": "text"
      },
      "source": [
        "<a href=\"https://colab.research.google.com/github/amanjaiswalofficial/machine-learning-engineer-projects/blob/main/HOML/05_Model_selection_using_kfold_and_stratified_kfold.ipynb\" target=\"_parent\"><img src=\"https://colab.research.google.com/assets/colab-badge.svg\" alt=\"Open In Colab\"/></a>"
      ]
    },
    {
      "cell_type": "code",
      "execution_count": 12,
      "metadata": {
        "id": "ZADyKANnjtas"
      },
      "outputs": [],
      "source": [
        "import numpy as np\n",
        "from sklearn.datasets import load_breast_cancer\n",
        "from sklearn.model_selection import StratifiedKFold, KFold, GridSearchCV, train_test_split\n",
        "from sklearn.metrics import accuracy_score, confusion_matrix, classification_report\n",
        "from sklearn.preprocessing import StandardScaler\n",
        "from sklearn.pipeline import Pipeline\n",
        "from sklearn.linear_model import LogisticRegression\n",
        "from sklearn.ensemble import RandomForestClassifier\n",
        "from sklearn.svm import SVC\n"
      ]
    },
    {
      "cell_type": "code",
      "source": [
        "data = load_breast_cancer()\n",
        "X, y = data.data, data.target\n",
        "print(f\"Dataset shape: {X.shape}, Target classes: {np.bincount(y)}\")"
      ],
      "metadata": {
        "colab": {
          "base_uri": "https://localhost:8080/"
        },
        "id": "KDOjFSUYkFI2",
        "outputId": "ec255853-7e8e-49f0-b2cf-4a9641faf1c3"
      },
      "execution_count": 3,
      "outputs": [
        {
          "output_type": "stream",
          "name": "stdout",
          "text": [
            "Dataset shape: (569, 30), Target classes: [212 357]\n"
          ]
        }
      ]
    },
    {
      "cell_type": "code",
      "source": [
        "\n",
        "cv = StratifiedKFold(n_splits=5, shuffle=True, random_state=42)\n",
        "cv = KFold(n_splits=5, shuffle=True, random_state=42)"
      ],
      "metadata": {
        "id": "TrTcwD3pkIKx"
      },
      "execution_count": 13,
      "outputs": []
    },
    {
      "cell_type": "code",
      "source": [
        "model_configs = {\n",
        "    \"Logistic Regression\": {\n",
        "        \"model\": LogisticRegression(max_iter=1000),\n",
        "        \"params\": {\n",
        "            \"classifier__C\": [0.01, 0.1, 1, 10]\n",
        "        }\n",
        "    },\n",
        "    \"Random Forest\": {\n",
        "        \"model\": RandomForestClassifier(),\n",
        "        \"params\": {\n",
        "            \"classifier__n_estimators\": [50, 100],\n",
        "            \"classifier__max_depth\": [None, 10, 20]\n",
        "        }\n",
        "    },\n",
        "    \"SVC\": {\n",
        "        \"model\": SVC(),\n",
        "        \"params\": {\n",
        "            \"classifier__C\": [0.1, 1, 10],\n",
        "            \"classifier__kernel\": [\"linear\", \"rbf\"]\n",
        "        }\n",
        "    }\n",
        "}"
      ],
      "metadata": {
        "id": "36jHuqrCqOmw"
      },
      "execution_count": 14,
      "outputs": []
    },
    {
      "cell_type": "code",
      "source": [
        "X_train, X_test, y_train, y_test = train_test_split(\n",
        "    X, y, test_size=0.2, stratify=y, random_state=42\n",
        ")\n",
        "\n",
        "best_model = None\n",
        "best_score = 0\n",
        "best_model_name = \"\"\n",
        "best_params = None\n",
        "\n",
        "# Grid search across all models\n",
        "for model_name, config in model_configs.items():\n",
        "    print(f\"\\n🔍 Running GridSearchCV for {model_name}\")\n",
        "\n",
        "    pipeline = Pipeline([\n",
        "        (\"scaler\", StandardScaler()),\n",
        "        (\"classifier\", config[\"model\"])\n",
        "    ])\n",
        "\n",
        "    grid = GridSearchCV(\n",
        "        estimator=pipeline,\n",
        "        param_grid=config[\"params\"],\n",
        "        scoring=\"accuracy\",\n",
        "        cv=cv,\n",
        "        n_jobs=-1\n",
        "    )\n",
        "\n",
        "    grid.fit(X_train, y_train)\n",
        "\n",
        "    print(f\"✅ Best Accuracy (CV): {grid.best_score_:.4f}\")\n",
        "    print(f\"🏆 Best Params: {grid.best_params_}\")\n",
        "\n",
        "    if grid.best_score_ > best_score:\n",
        "        best_model = grid.best_estimator_\n",
        "        best_score = grid.best_score_\n",
        "        best_model_name = model_name\n",
        "        best_params = grid.best_params_\n",
        "\n",
        "# Final Model Evaluation on Test Set\n",
        "print(f\"\\n🎯 Using Best Model: {best_model_name}\")\n",
        "y_pred = best_model.predict(X_test)\n",
        "\n",
        "print(f\"\\n✅ Test Accuracy: {accuracy_score(y_test, y_pred):.4f}\")\n",
        "print(\"\\n📊 Confusion Matrix:\")\n",
        "print(confusion_matrix(y_test, y_pred))\n",
        "\n",
        "print(\"\\n🧾 Classification Report:\")\n",
        "print(classification_report(y_test, y_pred, target_names=data.target_names))"
      ],
      "metadata": {
        "colab": {
          "base_uri": "https://localhost:8080/"
        },
        "id": "cLyEBlUTr1Nm",
        "outputId": "57bcb7e7-56e6-46d5-c17e-0b3325210574"
      },
      "execution_count": 15,
      "outputs": [
        {
          "output_type": "stream",
          "name": "stdout",
          "text": [
            "\n",
            "🔍 Running GridSearchCV for Logistic Regression\n",
            "✅ Best Accuracy (CV): 0.9802\n",
            "🏆 Best Params: {'classifier__C': 0.1}\n",
            "\n",
            "🔍 Running GridSearchCV for Random Forest\n",
            "✅ Best Accuracy (CV): 0.9582\n",
            "🏆 Best Params: {'classifier__max_depth': 20, 'classifier__n_estimators': 100}\n",
            "\n",
            "🔍 Running GridSearchCV for SVC\n",
            "✅ Best Accuracy (CV): 0.9736\n",
            "🏆 Best Params: {'classifier__C': 0.1, 'classifier__kernel': 'linear'}\n",
            "\n",
            "🎯 Using Best Model: Logistic Regression\n",
            "\n",
            "✅ Test Accuracy: 0.9737\n",
            "\n",
            "📊 Confusion Matrix:\n",
            "[[40  2]\n",
            " [ 1 71]]\n",
            "\n",
            "🧾 Classification Report:\n",
            "              precision    recall  f1-score   support\n",
            "\n",
            "   malignant       0.98      0.95      0.96        42\n",
            "      benign       0.97      0.99      0.98        72\n",
            "\n",
            "    accuracy                           0.97       114\n",
            "   macro avg       0.97      0.97      0.97       114\n",
            "weighted avg       0.97      0.97      0.97       114\n",
            "\n"
          ]
        }
      ]
    }
  ]
}