{
  "cells": [
    {
      "cell_type": "markdown",
      "metadata": {
        "id": "view-in-github",
        "colab_type": "text"
      },
      "source": [
        "<a href=\"https://colab.research.google.com/github/amanjaiswalofficial/machine-learning-engineer-projects/blob/main/HOML/02_Performance_Measure_MAE.ipynb\" target=\"_parent\"><img src=\"https://colab.research.google.com/assets/colab-badge.svg\" alt=\"Open In Colab\"/></a>"
      ]
    },
    {
      "cell_type": "code",
      "execution_count": null,
      "metadata": {
        "colab": {
          "base_uri": "https://localhost:8080/"
        },
        "id": "ihoQ49JFaivW",
        "outputId": "32ffd908-fa4c-4de1-a3b0-f9b8fa9a1ef3"
      },
      "outputs": [
        {
          "name": "stdout",
          "output_type": "stream",
          "text": [
            "Mean Absolute Error (MAE): 0.5332\n"
          ]
        }
      ],
      "source": [
        "import numpy as np\n",
        "import pandas as pd\n",
        "from sklearn.model_selection import train_test_split\n",
        "from sklearn.preprocessing import StandardScaler\n",
        "from sklearn.linear_model import LinearRegression\n",
        "from sklearn.metrics import mean_absolute_error\n",
        "from sklearn.datasets import fetch_california_housing\n",
        "\n",
        "# 1. Load dataset\n",
        "housing = fetch_california_housing()\n",
        "X = pd.DataFrame(housing.data, columns=housing.feature_names)\n",
        "y = housing.target  # House prices in $100,000s\n",
        "\n",
        "# 2. Split into training & test sets\n",
        "X_train, X_test, y_train, y_test = train_test_split(X, y, test_size=0.2, random_state=42)\n",
        "\n",
        "# 3. Scale features (important for regression models)\n",
        "scaler = StandardScaler()\n",
        "X_train_scaled = scaler.fit_transform(X_train)\n",
        "X_test_scaled = scaler.transform(X_test)\n",
        "\n",
        "# 4. Train a simple Linear Regression model\n",
        "model = LinearRegression()\n",
        "model.fit(X_train_scaled, y_train)\n",
        "\n",
        "# 5. Make predictions\n",
        "y_pred = model.predict(X_test_scaled)\n",
        "\n",
        "# 6. Compute MAE\n",
        "mae = mean_absolute_error(y_test, y_pred)\n",
        "\n",
        "print(f\"Mean Absolute Error (MAE): {mae:.4f}\")"
      ]
    },
    {
      "cell_type": "markdown",
      "metadata": {
        "id": "mRWARLKTa98A"
      },
      "source": [
        "The above shows us that our model's prediction are off by $53360.\n",
        "\n",
        "If MAE was higher, the model would be making larger errors.\n",
        "\n",
        "If MAE was lower, the model would be making more accurate predictions."
      ]
    },
    {
      "cell_type": "markdown",
      "metadata": {
        "id": "CrbTurssbPCl"
      },
      "source": [
        "### In a nutshell\n",
        "It helps us measure and improve the accuracy of our machine learning model.\n",
        "\n",
        "If the MAE is low, the model is performing well. If it's high, we need to improve it.\n",
        "\n",
        "Less sensitive to outliers: Unlike MSE (Mean Squared Error), it doesn't heavily penalize large errors\n",
        "\n",
        "Mostly used for regression problems"
      ]
    },
    {
      "cell_type": "markdown",
      "metadata": {
        "id": "XYMswBjXbl7f"
      },
      "source": [
        "### Comparison b/w models using MAE / Mean Absolute Error"
      ]
    },
    {
      "cell_type": "code",
      "execution_count": null,
      "metadata": {
        "colab": {
          "base_uri": "https://localhost:8080/"
        },
        "id": "tCEgTyeLa2J_",
        "outputId": "70215cd2-cc3b-4a4d-86d4-85116ba3c101"
      },
      "outputs": [
        {
          "name": "stdout",
          "output_type": "stream",
          "text": [
            "Linear Regression: MAE = 0.5332\n",
            "Decision Tree: MAE = 0.4546\n",
            "Random Forest: MAE = 0.3274\n",
            "Gradient Boosting: MAE = 0.3717\n",
            "\n",
            "Best Model: Random Forest with MAE = 0.3274\n"
          ]
        }
      ],
      "source": [
        "import numpy as np\n",
        "import pandas as pd\n",
        "from sklearn.model_selection import train_test_split\n",
        "from sklearn.preprocessing import StandardScaler\n",
        "from sklearn.linear_model import LinearRegression\n",
        "from sklearn.tree import DecisionTreeRegressor\n",
        "from sklearn.ensemble import RandomForestRegressor, GradientBoostingRegressor\n",
        "from sklearn.metrics import mean_absolute_error\n",
        "from sklearn.datasets import fetch_california_housing\n",
        "\n",
        "# 1. Load dataset\n",
        "housing = fetch_california_housing()\n",
        "X = pd.DataFrame(housing.data, columns=housing.feature_names)\n",
        "y = housing.target  # House prices in $100,000s\n",
        "\n",
        "# 2. Split into training & test sets\n",
        "X_train, X_test, y_train, y_test = train_test_split(X, y, test_size=0.2, random_state=42)\n",
        "\n",
        "# 3. Scale features\n",
        "scaler = StandardScaler()\n",
        "X_train_scaled = scaler.fit_transform(X_train)\n",
        "X_test_scaled = scaler.transform(X_test)\n",
        "\n",
        "# 4. Define models\n",
        "models = {\n",
        "    \"Linear Regression\": LinearRegression(),\n",
        "    \"Decision Tree\": DecisionTreeRegressor(),\n",
        "    \"Random Forest\": RandomForestRegressor(n_estimators=100, random_state=42),\n",
        "    \"Gradient Boosting\": GradientBoostingRegressor(n_estimators=100, random_state=42),\n",
        "}\n",
        "\n",
        "# 5. Train & evaluate each model\n",
        "mae_results = {}\n",
        "for name, model in models.items():\n",
        "    model.fit(X_train_scaled, y_train)\n",
        "    y_pred = model.predict(X_test_scaled)\n",
        "    mae = mean_absolute_error(y_test, y_pred)\n",
        "    mae_results[name] = mae\n",
        "    print(f\"{name}: MAE = {mae:.4f}\")\n",
        "\n",
        "# 6. Find the best model\n",
        "best_model = min(mae_results, key=mae_results.get)\n",
        "print(f\"\\nBest Model: {best_model} with MAE = {mae_results[best_model]:.4f}\")"
      ]
    },
    {
      "cell_type": "code",
      "execution_count": null,
      "metadata": {
        "colab": {
          "base_uri": "https://localhost:8080/",
          "height": 487
        },
        "id": "ttlnmu5Bb1k5",
        "outputId": "f62eab6e-91c2-4ae5-8e75-7effdc6e1d9f"
      },
      "outputs": [
        {
          "data": {
            "image/png": "[encoded data removed]",
            "text/plain": [
              "<Figure size 800x500 with 1 Axes>"
            ]
          },
          "metadata": {},
          "output_type": "display_data"
        }
      ],
      "source": [
        "import matplotlib.pyplot as plt\n",
        "\n",
        "# Plot MAE values for each model\n",
        "plt.figure(figsize=(8, 5))\n",
        "plt.bar(mae_results.keys(), mae_results.values(), color=['blue', 'green', 'orange', 'red'])\n",
        "plt.xlabel(\"Machine Learning Models\")\n",
        "plt.ylabel(\"Mean Absolute Error (MAE)\")\n",
        "plt.title(\"Model Comparison using MAE\")\n",
        "plt.ylim(min(mae_results.values()) - 0.05, max(mae_results.values()) + 0.05)\n",
        "\n",
        "# Show values on bars\n",
        "for i, v in enumerate(mae_results.values()):\n",
        "    plt.text(i, v + 0.02, f\"{v:.3f}\", ha='center', fontsize=12)\n",
        "\n",
        "plt.show()\n"
      ]
    },
    {
      "cell_type": "markdown",
      "metadata": {
        "id": "12chz1IacfMF"
      },
      "source": [
        "#### MAE vs RMSE\n",
        "\n",
        "Use MAE when you care about average error in the same units as the target (e.g., dollars, temperature).\n",
        "\n",
        "Use RMSE when large errors are more problematic (e.g., in financial predictions, where big mistakes can be costly).\n",
        "\n",
        "---\n",
        "\n",
        "If RMSE is much higher than MAE → The model makes some big mistakes (outliers).\n",
        "\n",
        "If RMSE is close to MAE → Errors are more evenly spread out."
      ]
    },
    {
      "cell_type": "code",
      "execution_count": null,
      "metadata": {
        "colab": {
          "base_uri": "https://localhost:8080/",
          "height": 669
        },
        "id": "tERnmdBkciTo",
        "outputId": "a6e66627-d909-4cc9-ccee-c488d316ba9b"
      },
      "outputs": [
        {
          "name": "stdout",
          "output_type": "stream",
          "text": [
            "Linear Regression: MAE = 0.5332, RMSE = 0.7456\n",
            "Decision Tree: MAE = 0.4526, RMSE = 0.7030\n",
            "Random Forest: MAE = 0.3274, RMSE = 0.5051\n",
            "Gradient Boosting: MAE = 0.3717, RMSE = 0.5422\n"
          ]
        },
        {
          "name": "stderr",
          "output_type": "stream",
          "text": [
            "<ipython-input-4-5107330032ac>:55: UserWarning: set_ticklabels() should only be used with a fixed number of ticks, i.e. after set_ticks() or using a FixedLocator.\n",
            "  ax[0].set_xticklabels(mae_results.keys(), rotation=20)\n",
            "<ipython-input-4-5107330032ac>:60: UserWarning: set_ticklabels() should only be used with a fixed number of ticks, i.e. after set_ticks() or using a FixedLocator.\n",
            "  ax[1].set_xticklabels(rmse_results.keys(), rotation=20)\n"
          ]
        },
        {
          "data": {
            "image/png": "[encoded data removed]",
            "text/plain": [
              "<Figure size 1200x500 with 2 Axes>"
            ]
          },
          "metadata": {},
          "output_type": "display_data"
        }
      ],
      "source": [
        "import numpy as np\n",
        "import pandas as pd\n",
        "import matplotlib.pyplot as plt\n",
        "from sklearn.model_selection import train_test_split\n",
        "from sklearn.preprocessing import StandardScaler\n",
        "from sklearn.linear_model import LinearRegression\n",
        "from sklearn.tree import DecisionTreeRegressor\n",
        "from sklearn.ensemble import RandomForestRegressor, GradientBoostingRegressor\n",
        "from sklearn.metrics import mean_absolute_error, mean_squared_error\n",
        "from sklearn.datasets import fetch_california_housing\n",
        "\n",
        "# 1. Load dataset\n",
        "housing = fetch_california_housing()\n",
        "X = pd.DataFrame(housing.data, columns=housing.feature_names)\n",
        "y = housing.target  # House prices in $100,000s\n",
        "\n",
        "# 2. Split into training & test sets\n",
        "X_train, X_test, y_train, y_test = train_test_split(X, y, test_size=0.2, random_state=42)\n",
        "\n",
        "# 3. Scale features\n",
        "scaler = StandardScaler()\n",
        "X_train_scaled = scaler.fit_transform(X_train)\n",
        "X_test_scaled = scaler.transform(X_test)\n",
        "\n",
        "# 4. Define models\n",
        "models = {\n",
        "    \"Linear Regression\": LinearRegression(),\n",
        "    \"Decision Tree\": DecisionTreeRegressor(),\n",
        "    \"Random Forest\": RandomForestRegressor(n_estimators=100, random_state=42),\n",
        "    \"Gradient Boosting\": GradientBoostingRegressor(n_estimators=100, random_state=42),\n",
        "}\n",
        "\n",
        "# 5. Train & evaluate each model using MAE and RMSE\n",
        "mae_results = {}\n",
        "rmse_results = {}\n",
        "\n",
        "for name, model in models.items():\n",
        "    model.fit(X_train_scaled, y_train)\n",
        "    y_pred = model.predict(X_test_scaled)\n",
        "\n",
        "    mae = mean_absolute_error(y_test, y_pred)\n",
        "    rmse = np.sqrt(mean_squared_error(y_test, y_pred))\n",
        "\n",
        "    mae_results[name] = mae\n",
        "    rmse_results[name] = rmse\n",
        "\n",
        "    print(f\"{name}: MAE = {mae:.4f}, RMSE = {rmse:.4f}\")\n",
        "\n",
        "# 6. Plot comparison of MAE & RMSE\n",
        "fig, ax = plt.subplots(1, 2, figsize=(12, 5))\n",
        "\n",
        "ax[0].bar(mae_results.keys(), mae_results.values(), color='blue')\n",
        "ax[0].set_title(\"Model Comparison (MAE)\")\n",
        "ax[0].set_ylabel(\"Mean Absolute Error\")\n",
        "ax[0].set_xticklabels(mae_results.keys(), rotation=20)\n",
        "\n",
        "ax[1].bar(rmse_results.keys(), rmse_results.values(), color='red')\n",
        "ax[1].set_title(\"Model Comparison (RMSE)\")\n",
        "ax[1].set_ylabel(\"Root Mean Squared Error\")\n",
        "ax[1].set_xticklabels(rmse_results.keys(), rotation=20)\n",
        "\n",
        "plt.show()"
      ]
    },
    {
      "cell_type": "markdown",
      "metadata": {
        "id": "zI9VkvCydwf1"
      },
      "source": [
        "### Using k-fold cross validation for better performance and lesser MAE"
      ]
    },
    {
      "cell_type": "code",
      "execution_count": null,
      "metadata": {
        "colab": {
          "base_uri": "https://localhost:8080/"
        },
        "id": "_RAEMNp8d2eR",
        "outputId": "e8dd284a-6eb7-4275-f798-172a74726ad5"
      },
      "outputs": [
        {
          "name": "stdout",
          "output_type": "stream",
          "text": [
            "MAE from each fold: [0.32817422 0.33173655 0.326316   0.3172705  0.33555398]\n",
            "Average MAE: 0.3278\n"
          ]
        }
      ],
      "source": [
        "import numpy as np\n",
        "import pandas as pd\n",
        "from sklearn.model_selection import KFold, cross_val_score\n",
        "from sklearn.ensemble import RandomForestRegressor\n",
        "from sklearn.metrics import mean_absolute_error, make_scorer\n",
        "from sklearn.datasets import fetch_california_housing\n",
        "from sklearn.preprocessing import StandardScaler\n",
        "\n",
        "# Load dataset\n",
        "housing = fetch_california_housing()\n",
        "X = pd.DataFrame(housing.data, columns=housing.feature_names)\n",
        "y = housing.target  # House prices in $100,000s\n",
        "\n",
        "# Scale features\n",
        "scaler = StandardScaler()\n",
        "X_scaled = scaler.fit_transform(X)\n",
        "\n",
        "# Define model\n",
        "model = RandomForestRegressor(n_estimators=100, random_state=42)\n",
        "\n",
        "# Set up K-Fold Cross-Validation (K=5)\n",
        "kf = KFold(n_splits=5, shuffle=True, random_state=42)\n",
        "\n",
        "# Use cross_val_score to compute MAE across K folds\n",
        "mae_scores = cross_val_score(model, X_scaled, y, cv=kf, scoring=make_scorer(mean_absolute_error))\n",
        "\n",
        "# Compute average MAE\n",
        "mean_mae = np.mean(mae_scores)\n",
        "\n",
        "# Print results\n",
        "print(f\"MAE from each fold: {mae_scores}\")\n",
        "print(f\"Average MAE: {mean_mae:.4f}\")"
      ]
    },
    {
      "cell_type": "code",
      "execution_count": null,
      "metadata": {
        "colab": {
          "base_uri": "https://localhost:8080/"
        },
        "id": "wIadU7f_eD8T",
        "outputId": "d1fb0563-7f4b-48e4-d587-1cde32361ab8"
      },
      "outputs": [
        {
          "name": "stdout",
          "output_type": "stream",
          "text": [
            "MAE Without K-Fold: 0.3276\n"
          ]
        }
      ],
      "source": [
        "from sklearn.model_selection import train_test_split\n",
        "from sklearn.ensemble import RandomForestRegressor\n",
        "from sklearn.metrics import mean_absolute_error\n",
        "\n",
        "# Split data (without K-Fold)\n",
        "X_train, X_test, y_train, y_test = train_test_split(X_scaled, y, test_size=0.2, random_state=42)\n",
        "\n",
        "# Train model\n",
        "rf = RandomForestRegressor(n_estimators=100, random_state=42)\n",
        "rf.fit(X_train, y_train)\n",
        "\n",
        "# Predict & calculate MAE\n",
        "y_pred = rf.predict(X_test)\n",
        "mae_without_kfold = mean_absolute_error(y_test, y_pred)\n",
        "\n",
        "print(f\"MAE Without K-Fold: {mae_without_kfold:.4f}\")\n"
      ]
    },
    {
      "cell_type": "code",
      "execution_count": null,
      "metadata": {
        "colab": {
          "base_uri": "https://localhost:8080/"
        },
        "id": "AKNpIpB7eJLj",
        "outputId": "fa2850e4-e8b5-43e5-c83e-f4b22af670e6"
      },
      "outputs": [
        {
          "name": "stdout",
          "output_type": "stream",
          "text": [
            "MAE With K-Fold: 0.3278\n"
          ]
        }
      ],
      "source": [
        "mae_scores = cross_val_score(rf, X_scaled, y, cv=kf, scoring=make_scorer(mean_absolute_error))\n",
        "\n",
        "# Compute average MAE\n",
        "mae_with_kfold = np.mean(mae_scores)\n",
        "\n",
        "print(f\"MAE With K-Fold: {mae_with_kfold:.4f}\")"
      ]
    },
    {
      "cell_type": "code",
      "execution_count": null,
      "metadata": {
        "colab": {
          "background_save": true,
          "base_uri": "https://localhost:8080/"
        },
        "id": "q3kpv9H2ev0u",
        "outputId": "63c917fb-01b5-4293-d7de-c589f7d460a4"
      },
      "outputs": [
        {
          "name": "stdout",
          "output_type": "stream",
          "text": [
            "Fitting 5 folds for each of 81 candidates, totalling 405 fits\n",
            "Best Parameters: {'max_depth': 10, 'min_samples_leaf': 1, 'min_samples_split': 10, 'n_estimators': 50}\n",
            "Final MAE after Hyperparameter Tuning: 0.3679\n"
          ]
        }
      ],
      "source": [
        "import numpy as np\n",
        "import pandas as pd\n",
        "from sklearn.model_selection import train_test_split, KFold, GridSearchCV\n",
        "from sklearn.ensemble import RandomForestRegressor\n",
        "from sklearn.preprocessing import StandardScaler\n",
        "from sklearn.metrics import mean_absolute_error, make_scorer\n",
        "from sklearn.datasets import fetch_california_housing\n",
        "\n",
        "# Load dataset\n",
        "housing = fetch_california_housing()\n",
        "X = pd.DataFrame(housing.data, columns=housing.feature_names)\n",
        "y = housing.target  # House prices in $100,000s\n",
        "\n",
        "# Scale features\n",
        "scaler = StandardScaler()\n",
        "X_scaled = scaler.fit_transform(X)\n",
        "\n",
        "# Define K-Fold Cross-Validation\n",
        "kf = KFold(n_splits=5, shuffle=True, random_state=42)\n",
        "\n",
        "# Define Random Forest model\n",
        "rf = RandomForestRegressor(random_state=42)\n",
        "\n",
        "# Define Hyperparameter Grid\n",
        "param_grid = {\n",
        "    'n_estimators': [50, 100, 200],  # Number of trees\n",
        "    'max_depth': [10, 20, None],  # Depth of trees\n",
        "    'min_samples_split': [2, 5, 10],  # Minimum samples to split a node\n",
        "    'min_samples_leaf': [1, 2, 4]  # Minimum samples in a leaf node\n",
        "}\n",
        "\n",
        "# Use GridSearchCV for hyperparameter tuning with K-Fold\n",
        "grid_search = GridSearchCV(rf, param_grid, cv=kf, scoring=make_scorer(mean_absolute_error), n_jobs=-1, verbose=1)\n",
        "grid_search.fit(X_scaled, y)\n",
        "\n",
        "# Get the best model\n",
        "best_rf = grid_search.best_estimator_\n",
        "\n",
        "# Evaluate on a train-test split\n",
        "X_train, X_test, y_train, y_test = train_test_split(X_scaled, y, test_size=0.2, random_state=42)\n",
        "best_rf.fit(X_train, y_train)\n",
        "y_pred = best_rf.predict(X_test)\n",
        "\n",
        "# Compute final MAE\n",
        "final_mae = mean_absolute_error(y_test, y_pred)\n",
        "\n",
        "# Print results\n",
        "print(f\"Best Parameters: {grid_search.best_params_}\")\n",
        "print(f\"Final MAE after Hyperparameter Tuning: {final_mae:.4f}\")"
      ]
    }
  ],
  "metadata": {
    "colab": {
      "provenance": [],
      "authorship_tag": "ABX9TyM/JboRqgZUpyVhhuUQXYHE",
      "include_colab_link": true
    },
    "kernelspec": {
      "display_name": "Python 3",
      "name": "python3"
    },
    "language_info": {
      "name": "python"
    }
  },
  "nbformat": 4,
  "nbformat_minor": 0
}