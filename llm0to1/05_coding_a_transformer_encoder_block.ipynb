{
  "nbformat": 4,
  "nbformat_minor": 0,
  "metadata": {
    "colab": {
      "provenance": [],
      "authorship_tag": "ABX9TyMfgLfDXStwURepv9fk1nWW",
      "include_colab_link": true
    },
    "kernelspec": {
      "name": "python3",
      "display_name": "Python 3"
    },
    "language_info": {
      "name": "python"
    }
  },
  "cells": [
    {
      "cell_type": "markdown",
      "metadata": {
        "id": "view-in-github",
        "colab_type": "text"
      },
      "source": [
        "<a href=\"https://colab.research.google.com/github/amanjaiswalofficial/machine-learning-engineer-projects/blob/main/llm0to1/05_coding_a_transformer_encoder_block.ipynb\" target=\"_parent\"><img src=\"https://colab.research.google.com/assets/colab-badge.svg\" alt=\"Open In Colab\"/></a>"
      ]
    },
    {
      "cell_type": "code",
      "execution_count": 1,
      "metadata": {
        "id": "7MznC-DcMI6F"
      },
      "outputs": [],
      "source": [
        "import torch\n",
        "import torch.nn as nn\n",
        "import torch.nn.functional as F"
      ]
    },
    {
      "cell_type": "code",
      "source": [
        "class MultiHeadAttention(nn.Module):\n",
        "    def __init__(self, embed_dim, num_heads):\n",
        "        super(MultiHeadAttention, self).__init__()\n",
        "        self.embed_dim = embed_dim\n",
        "        self.num_heads = num_heads\n",
        "        assert embed_dim % num_heads == 0, \"Embedding dim must be divisible by num_heads\"\n",
        "\n",
        "        self.head_dim = embed_dim // num_heads  # Dimension per head\n",
        "        self.scaling = torch.sqrt(torch.tensor(self.head_dim, dtype=torch.float32))\n",
        "\n",
        "        # Linear layers for Q, K, V transformations\n",
        "        self.W_q = nn.Linear(embed_dim, embed_dim, bias=False)\n",
        "        self.W_k = nn.Linear(embed_dim, embed_dim, bias=False)\n",
        "        self.W_v = nn.Linear(embed_dim, embed_dim, bias=False)\n",
        "\n",
        "        # Final linear transformation\n",
        "        self.fc_out = nn.Linear(embed_dim, embed_dim)\n",
        "\n",
        "    def forward(self, x):\n",
        "        batch_size, seq_len, embed_dim = x.shape\n",
        "\n",
        "        # Transform input into Q, K, V\n",
        "        Q = self.W_q(x)  # (batch, seq_len, embed_dim)\n",
        "        K = self.W_k(x)  # (batch, seq_len, embed_dim)\n",
        "        V = self.W_v(x)  # (batch, seq_len, embed_dim)\n",
        "\n",
        "        # Split into multiple heads\n",
        "        Q = Q.view(batch_size, seq_len, self.num_heads, self.head_dim).transpose(1, 2)\n",
        "        K = K.view(batch_size, seq_len, self.num_heads, self.head_dim).transpose(1, 2)\n",
        "        V = V.view(batch_size, seq_len, self.num_heads, self.head_dim).transpose(1, 2)\n",
        "\n",
        "        # Compute scaled dot-product attention\n",
        "        attention_scores = torch.matmul(Q, K.transpose(-2, -1)) / self.scaling\n",
        "        attention_weights = F.softmax(attention_scores, dim=-1)\n",
        "        attention_output = torch.matmul(attention_weights, V)\n",
        "\n",
        "        # Merge heads back together\n",
        "        attention_output = attention_output.transpose(1, 2).contiguous()\n",
        "        attention_output = attention_output.view(batch_size, seq_len, embed_dim)\n",
        "\n",
        "        # Final linear layer\n",
        "        output = self.fc_out(attention_output)\n",
        "\n",
        "        return output, attention_weights"
      ],
      "metadata": {
        "id": "3JphD48gNefT"
      },
      "execution_count": 2,
      "outputs": []
    },
    {
      "cell_type": "code",
      "source": [
        "class TransformerEncoderBlock(nn.Module):\n",
        "    def __init__(self, embed_size, num_of_heads, ff_hidden_dim, dropout=0.1):\n",
        "      super(TransformerEncoderBlock, self).__init__()\n",
        "      self.mha = MultiHeadAttention(embed_size, num_of_heads)\n",
        "      self.norm1 = nn.LayerNorm(embed_size)\n",
        "      self.norm2 = nn.LayerNorm(embed_size)\n",
        "      self.ffn = nn.Sequential(\n",
        "          nn.Linear(embed_size, ff_hidden_dim),\n",
        "          nn.ReLU(),\n",
        "          nn.Linear(ff_hidden_dim, embed_size)\n",
        "      )\n",
        "      self.dropout = nn.Dropout(dropout)\n",
        "\n",
        "    def forward(self, x):\n",
        "      attn_output, _ = self.mha(x)\n",
        "      x = self.norm1(x + self.dropout(attn_output))\n",
        "\n",
        "      ffn_output = self.ffn(x)\n",
        "      x = self.norm2(x + self.dropout(ffn_output))\n",
        "      return x\n",
        "\n",
        "embed_dim = 8    # Small embedding size\n",
        "num_heads = 2    # Number of attention heads\n",
        "ff_hidden_dim = 16  # Hidden layer in FFN\n",
        "seq_len = 5      # Sentence with 5 tokens\n",
        "\n",
        "x = torch.rand(1, seq_len, embed_dim)\n",
        "encoder_block = TransformerEncoderBlock(embed_dim, num_heads, ff_hidden_dim)\n",
        "output = encoder_block(x)\n",
        "print(\"Transformer Encoder Output Shape:\", output.shape)  # (1, 5, 8)"
      ],
      "metadata": {
        "colab": {
          "base_uri": "https://localhost:8080/"
        },
        "id": "lipqWW_UMKEV",
        "outputId": "f1af7f09-48bd-4cf9-995e-32bb231cdc7c"
      },
      "execution_count": 3,
      "outputs": [
        {
          "output_type": "stream",
          "name": "stdout",
          "text": [
            "Transformer Encoder Output Shape: torch.Size([1, 5, 8])\n"
          ]
        }
      ]
    }
  ]
}