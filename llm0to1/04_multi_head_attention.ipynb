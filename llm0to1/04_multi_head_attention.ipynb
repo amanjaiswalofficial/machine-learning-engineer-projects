{
  "nbformat": 4,
  "nbformat_minor": 0,
  "metadata": {
    "colab": {
      "provenance": [],
      "authorship_tag": "ABX9TyOHY2WGEqkQxj0+ZkuckW2m",
      "include_colab_link": true
    },
    "kernelspec": {
      "name": "python3",
      "display_name": "Python 3"
    },
    "language_info": {
      "name": "python"
    }
  },
  "cells": [
    {
      "cell_type": "markdown",
      "metadata": {
        "id": "view-in-github",
        "colab_type": "text"
      },
      "source": [
        "<a href=\"https://colab.research.google.com/github/amanjaiswalofficial/machine-learning-engineer-projects/blob/main/llm0to1/04_multi_head_attention.ipynb\" target=\"_parent\"><img src=\"https://colab.research.google.com/assets/colab-badge.svg\" alt=\"Open In Colab\"/></a>"
      ]
    },
    {
      "cell_type": "markdown",
      "source": [
        "### How it works\n",
        "Input Sentence\n",
        "\n",
        "→ Split into Multiple Heads  \n",
        "\n",
        "→ Apply Self-Attention on Each Head  \n",
        "\n",
        "→ Merge the Heads\n",
        "\n",
        "→ Final Representation  "
      ],
      "metadata": {
        "id": "Qc_0o6KOXcxI"
      }
    },
    {
      "cell_type": "code",
      "execution_count": 1,
      "metadata": {
        "id": "fUUpodzVUldg"
      },
      "outputs": [],
      "source": [
        "import torch\n",
        "import torch.nn as nn\n",
        "import torch.nn.functional as F\n",
        "\n",
        "class MultiHeadAttention(nn.Module):\n",
        "  def __init__(self, embed_dim, num_heads):\n",
        "    super(MultiHeadAttention, self).__init__()\n",
        "    self.embed_dim = embed_dim\n",
        "    self.num_heads = num_heads\n",
        "\n",
        "    assert embed_dim % num_heads == 0, \"Embedding dim must be divisible by number of heads\"\n",
        "\n",
        "    self.head_dim = embed_dim // num_heads\n",
        "    self.scaling = torch.sqrt(torch.sensor(self.head_dim, dtype=torch.float32))\n",
        "\n",
        "    self.W_q = nn.Linear(embed_dim, embed_dim, bias=False)\n",
        "    self.W_k = nn.Linear(embed_dim, embed_dim, bias=False)\n",
        "    self.W_v = nn.Linear(embed_dim, embed_dim, bias=False)\n",
        "\n",
        "    self.fc_out = nn.Linear(embed_dim, embed_dim) # final linear transformation\n",
        "\n",
        "  def forward(self, x):\n",
        "    batch_size, seq_len, embed_dim = x.shape\n",
        "\n",
        "    Q = self.W_q(x)  # (batch, seq_len, embed_dim)\n",
        "    K = self.W_k(x)  # (batch, seq_len, embed_dim)\n",
        "    V = self.W_v(x)  # (batch, seq_len, embed_dim)\n",
        "\n",
        "    # Split into multiple heads\n",
        "    Q = Q.view(batch_size, seq_len, self.num_heads, self.head_dim).transpose(1, 2)\n",
        "    K = K.view(batch_size, seq_len, self.num_heads, self.head_dim).transpose(1, 2)\n",
        "    V = V.view(batch_size, seq_len, self.num_heads, self.head_dim).transpose(1, 2)\n",
        "\n",
        "    # Compute scaled dot-product attention\n",
        "    attention_scores = torch.matmul(Q, K.transpose(-2, -1)) / self.scaling\n",
        "    attention_weights = F.softmax(attention_scores, dim=-1)\n",
        "    attention_output = torch.matmul(attention_weights, V)\n",
        "\n",
        "    attention_output = attention_output.transpose(1, 2).contiguous()\n",
        "    attention_output = attention_output.view(batch_size, seq_len, embed_dim)\n",
        "\n",
        "    output = self.fc_out(attention_output)\n",
        "\n",
        "    return output, attention_weights\n",
        "\n"
      ]
    },
    {
      "cell_type": "code",
      "source": [
        "# Example usage\n",
        "embed_dim = 8  # Small embedding size for testing\n",
        "num_heads = 2  # Number of attention heads\n",
        "seq_len = 5    # Sentence with 5 tokens\n",
        "\n",
        "# Dummy input (batch_size=1, seq_len=5, embed_dim=8)\n",
        "x = torch.rand(1, seq_len, embed_dim)\n",
        "\n",
        "multi_head_attention = MultiHeadAttention(embed_dim, num_heads)\n",
        "output, attn_weights = multi_head_attention(x)\n",
        "\n",
        "print(\"Multi-Head Attention Output Shape:\", output.shape)  # (1, 5, 8)\n",
        "print(\"Attention Weights Shape:\", attn_weights.shape)  # (1, 2, 5, 5)"
      ],
      "metadata": {
        "colab": {
          "base_uri": "https://localhost:8080/",
          "height": 362
        },
        "id": "o3wg0OsCaXMJ",
        "outputId": "9607a951-2b00-4cf6-ade2-39d8951e1077"
      },
      "execution_count": 2,
      "outputs": [
        {
          "output_type": "error",
          "ename": "AttributeError",
          "evalue": "module 'torch' has no attribute 'sensor'",
          "traceback": [
            "\u001b[0;31m---------------------------------------------------------------------------\u001b[0m",
            "\u001b[0;31mAttributeError\u001b[0m                            Traceback (most recent call last)",
            "\u001b[0;32m<ipython-input-2-754545dafdda>\u001b[0m in \u001b[0;36m<cell line: 0>\u001b[0;34m()\u001b[0m\n\u001b[1;32m      7\u001b[0m \u001b[0mx\u001b[0m \u001b[0;34m=\u001b[0m \u001b[0mtorch\u001b[0m\u001b[0;34m.\u001b[0m\u001b[0mrand\u001b[0m\u001b[0;34m(\u001b[0m\u001b[0;36m1\u001b[0m\u001b[0;34m,\u001b[0m \u001b[0mseq_len\u001b[0m\u001b[0;34m,\u001b[0m \u001b[0membed_dim\u001b[0m\u001b[0;34m)\u001b[0m\u001b[0;34m\u001b[0m\u001b[0;34m\u001b[0m\u001b[0m\n\u001b[1;32m      8\u001b[0m \u001b[0;34m\u001b[0m\u001b[0m\n\u001b[0;32m----> 9\u001b[0;31m \u001b[0mmulti_head_attention\u001b[0m \u001b[0;34m=\u001b[0m \u001b[0mMultiHeadAttention\u001b[0m\u001b[0;34m(\u001b[0m\u001b[0membed_dim\u001b[0m\u001b[0;34m,\u001b[0m \u001b[0mnum_heads\u001b[0m\u001b[0;34m)\u001b[0m\u001b[0;34m\u001b[0m\u001b[0;34m\u001b[0m\u001b[0m\n\u001b[0m\u001b[1;32m     10\u001b[0m \u001b[0moutput\u001b[0m\u001b[0;34m,\u001b[0m \u001b[0mattn_weights\u001b[0m \u001b[0;34m=\u001b[0m \u001b[0mmulti_head_attention\u001b[0m\u001b[0;34m(\u001b[0m\u001b[0mx\u001b[0m\u001b[0;34m)\u001b[0m\u001b[0;34m\u001b[0m\u001b[0;34m\u001b[0m\u001b[0m\n\u001b[1;32m     11\u001b[0m \u001b[0;34m\u001b[0m\u001b[0m\n",
            "\u001b[0;32m<ipython-input-1-6de1e1182f96>\u001b[0m in \u001b[0;36m__init__\u001b[0;34m(self, embed_dim, num_heads)\u001b[0m\n\u001b[1;32m     12\u001b[0m \u001b[0;34m\u001b[0m\u001b[0m\n\u001b[1;32m     13\u001b[0m     \u001b[0mself\u001b[0m\u001b[0;34m.\u001b[0m\u001b[0mhead_dim\u001b[0m \u001b[0;34m=\u001b[0m \u001b[0membed_dim\u001b[0m \u001b[0;34m//\u001b[0m \u001b[0mnum_heads\u001b[0m\u001b[0;34m\u001b[0m\u001b[0;34m\u001b[0m\u001b[0m\n\u001b[0;32m---> 14\u001b[0;31m     \u001b[0mself\u001b[0m\u001b[0;34m.\u001b[0m\u001b[0mscaling\u001b[0m \u001b[0;34m=\u001b[0m \u001b[0mtorch\u001b[0m\u001b[0;34m.\u001b[0m\u001b[0msqrt\u001b[0m\u001b[0;34m(\u001b[0m\u001b[0mtorch\u001b[0m\u001b[0;34m.\u001b[0m\u001b[0msensor\u001b[0m\u001b[0;34m(\u001b[0m\u001b[0mself\u001b[0m\u001b[0;34m.\u001b[0m\u001b[0mhead_dim\u001b[0m\u001b[0;34m,\u001b[0m \u001b[0mdtype\u001b[0m\u001b[0;34m=\u001b[0m\u001b[0mtorch\u001b[0m\u001b[0;34m.\u001b[0m\u001b[0mfloat32\u001b[0m\u001b[0;34m)\u001b[0m\u001b[0;34m)\u001b[0m\u001b[0;34m\u001b[0m\u001b[0;34m\u001b[0m\u001b[0m\n\u001b[0m\u001b[1;32m     15\u001b[0m \u001b[0;34m\u001b[0m\u001b[0m\n\u001b[1;32m     16\u001b[0m     \u001b[0mself\u001b[0m\u001b[0;34m.\u001b[0m\u001b[0mW_q\u001b[0m \u001b[0;34m=\u001b[0m \u001b[0mnn\u001b[0m\u001b[0;34m.\u001b[0m\u001b[0mLinear\u001b[0m\u001b[0;34m(\u001b[0m\u001b[0membed_dim\u001b[0m\u001b[0;34m,\u001b[0m \u001b[0membed_dim\u001b[0m\u001b[0;34m,\u001b[0m \u001b[0mbias\u001b[0m\u001b[0;34m=\u001b[0m\u001b[0;32mFalse\u001b[0m\u001b[0;34m)\u001b[0m\u001b[0;34m\u001b[0m\u001b[0;34m\u001b[0m\u001b[0m\n",
            "\u001b[0;32m/usr/local/lib/python3.11/dist-packages/torch/__init__.py\u001b[0m in \u001b[0;36m__getattr__\u001b[0;34m(name)\u001b[0m\n\u001b[1;32m   2560\u001b[0m             \u001b[0;32mreturn\u001b[0m \u001b[0mimportlib\u001b[0m\u001b[0;34m.\u001b[0m\u001b[0mimport_module\u001b[0m\u001b[0;34m(\u001b[0m\u001b[0;34mf\".{name}\"\u001b[0m\u001b[0;34m,\u001b[0m \u001b[0m__name__\u001b[0m\u001b[0;34m)\u001b[0m\u001b[0;34m\u001b[0m\u001b[0;34m\u001b[0m\u001b[0m\n\u001b[1;32m   2561\u001b[0m \u001b[0;34m\u001b[0m\u001b[0m\n\u001b[0;32m-> 2562\u001b[0;31m         \u001b[0;32mraise\u001b[0m \u001b[0mAttributeError\u001b[0m\u001b[0;34m(\u001b[0m\u001b[0;34mf\"module '{__name__}' has no attribute '{name}'\"\u001b[0m\u001b[0;34m)\u001b[0m\u001b[0;34m\u001b[0m\u001b[0;34m\u001b[0m\u001b[0m\n\u001b[0m\u001b[1;32m   2563\u001b[0m \u001b[0;34m\u001b[0m\u001b[0m\n\u001b[1;32m   2564\u001b[0m \u001b[0;34m\u001b[0m\u001b[0m\n",
            "\u001b[0;31mAttributeError\u001b[0m: module 'torch' has no attribute 'sensor'"
          ]
        }
      ]
    },
    {
      "source": [
        "import torch\n",
        "import torch.nn as nn\n",
        "import torch.nn.functional as F\n",
        "\n",
        "class MultiHeadAttention(nn.Module):\n",
        "  def __init__(self, embed_dim, num_heads):\n",
        "    super(MultiHeadAttention, self).__init__()\n",
        "    self.embed_dim = embed_dim\n",
        "    self.num_heads = num_heads\n",
        "\n",
        "    assert embed_dim % num_heads == 0, \"Embedding dim must be divisible by number of heads\"\n",
        "\n",
        "    self.head_dim = embed_dim // num_heads\n",
        "    # Use torch.tensor instead of torch.sensor\n",
        "    self.scaling = torch.sqrt(torch.tensor(self.head_dim, dtype=torch.float32))\n",
        "\n",
        "    self.W_q = nn.Linear(embed_dim, embed_dim, bias=False)\n",
        "    self.W_k = nn.Linear(embed_dim, embed_dim, bias=False)\n",
        "    self.W_v = nn.Linear(embed_dim, embed_dim, bias=False)\n",
        "\n",
        "    self.fc_out = nn.Linear(embed_dim, embed_dim) # final linear transformation\n",
        "\n",
        "  def forward(self, x):\n",
        "    batch_size, seq_len, embed_dim = x.shape\n",
        "\n",
        "    Q = self.W_q(x)  # (batch, seq_len, embed_dim)\n",
        "    K = self.W_k(x)  # (batch, seq_len, embed_dim)\n",
        "    V = self.W_v(x)  # (batch, seq_len, embed_dim)\n",
        "\n",
        "    # Split into multiple heads\n",
        "    Q = Q.view(batch_size, seq_len, self.num_heads, self.head_dim).transpose(1, 2)\n",
        "    K = K.view(batch_size, seq_len, self.num_heads, self.head_dim).transpose(1, 2)\n",
        "    V = V.view(batch_size, seq_len, self.num_heads, self.head_dim).transpose(1, 2)\n",
        "\n",
        "    # Compute scaled dot-product attention\n",
        "    attention_scores = torch.matmul(Q, K.transpose(-2, -1)) / self.scaling\n",
        "    attention_weights = F.softmax(attention_scores, dim=-1)\n",
        "    attention_output = torch.matmul(attention_weights, V)\n",
        "\n",
        "    attention_output = attention_output.transpose(1, 2).contiguous()\n",
        "    attention_output = attention_output.view(batch_size, seq_len, embed_dim)\n",
        "\n",
        "    output = self.fc_out(attention_output)\n",
        "\n",
        "    return output, attention_weights"
      ],
      "cell_type": "code",
      "metadata": {
        "id": "ITOl_lbqbDRx"
      },
      "execution_count": 3,
      "outputs": []
    },
    {
      "cell_type": "code",
      "source": [
        "# Example usage\n",
        "embed_dim = 8  # Small embedding size for testing\n",
        "num_heads = 2  # Number of attention heads\n",
        "seq_len = 5    # Sentence with 5 tokens\n",
        "\n",
        "# Dummy input (batch_size=1, seq_len=5, embed_dim=8)\n",
        "x = torch.rand(1, seq_len, embed_dim)\n",
        "\n",
        "multi_head_attention = MultiHeadAttention(embed_dim, num_heads)\n",
        "output, attn_weights = multi_head_attention(x)\n",
        "\n",
        "print(\"Multi-Head Attention Output Shape:\", output.shape)  # (1, 5, 8)\n",
        "print(\"Attention Weights Shape:\", attn_weights.shape)  # (1, 2, 5, 5)"
      ],
      "metadata": {
        "colab": {
          "base_uri": "https://localhost:8080/"
        },
        "id": "PiUUl4TcYV1F",
        "outputId": "56eb00c2-c349-4aa9-e3fc-0ed5bc871bb0"
      },
      "execution_count": 4,
      "outputs": [
        {
          "output_type": "stream",
          "name": "stdout",
          "text": [
            "Multi-Head Attention Output Shape: torch.Size([1, 5, 8])\n",
            "Attention Weights Shape: torch.Size([1, 2, 5, 5])\n"
          ]
        }
      ]
    }
  ]
}